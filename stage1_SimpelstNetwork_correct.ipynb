{
 "cells": [
  {
   "cell_type": "markdown",
   "id": "6498c976",
   "metadata": {},
   "source": [
    "<h1> Simplest neural Network </h1>\n",
    "finished  17/2/2023\n",
    "\n",
    "**Aim:** This is the first draft of the NN, verything will be kept simple."
   ]
  },
  {
   "cell_type": "code",
   "execution_count": 1,
   "id": "04e2297b",
   "metadata": {},
   "outputs": [],
   "source": [
    "import myfunctions as mf\n",
    "from tensorflow import keras\n",
    "from tensorflow.keras import layers\n",
    "import numpy as np\n",
    "import matplotlib.pyplot as plt\n",
    "import uproot\n",
    "from tensorflow.keras.optimizers import Adam\n",
    "from scipy.optimize import curve_fit\n",
    "import time\n",
    "import random"
   ]
  },
  {
   "cell_type": "code",
   "execution_count": 2,
   "id": "04fd24fa",
   "metadata": {},
   "outputs": [],
   "source": [
    "# load data\n",
    "rootfile = uproot.open(\"./stage1_clusters_bigdata.root\")\n",
    "event = rootfile[\"user202302;1\"]\n",
    "xMC = event[\"x_MC\"].array(library=\"np\") #[:40000]\n",
    "yMC = event[\"y_MC\"].array(library=\"np\") #[:40000]\n",
    "EMC = event[\"E_MC\"].array(library=\"np\") #[:40000]\n",
    "x_truth = event[\"x_truth\"].array(library=\"np\") #[:40000]\n",
    "y_truth = event[\"y_truth\"].array(library=\"np\") #[:40000]\n",
    "E_truth = event[\"E_truth\"].array(library=\"np\") #[:40000]\n",
    "x_fit = event[\"x_fit\"].array(library=\"np\") #[:40000]\n",
    "y_fit = event[\"y_fit\"].array(library=\"np\") #[:40000]\n",
    "E_fit = event[\"E_fit\"].array(library=\"np\") #[:40000]"
   ]
  },
  {
   "cell_type": "code",
   "execution_count": 3,
   "id": "d2f59918",
   "metadata": {},
   "outputs": [
    {
     "name": "stdout",
     "output_type": "stream",
     "text": [
      "(718969, 2)\n",
      "(718969, 5, 5)\n",
      "Clusters are bigger than 5 celles.\n",
      "Clusters are bigger than 5 celles.\n",
      "Clusters are bigger than 5 celles.\n",
      "Clusters are bigger than 5 celles.\n",
      "Clusters are bigger than 5 celles.\n",
      "Clusters are bigger than 5 celles.\n",
      "Clusters are bigger than 5 celles.\n",
      "Clusters are bigger than 5 celles.\n",
      "Clusters are bigger than 5 celles.\n",
      "Clusters are bigger than 5 celles.\n",
      "Clusters are bigger than 5 celles.\n",
      "Clusters are bigger than 5 celles.\n",
      "Clusters are bigger than 5 celles.\n",
      "Clusters are bigger than 5 celles.\n",
      "Clusters are bigger than 5 celles.\n",
      "Clusters are bigger than 5 celles.\n",
      "Clusters are bigger than 5 celles.\n",
      "Clusters are bigger than 5 celles.\n",
      "Clusters are bigger than 5 celles.\n",
      "Clusters are bigger than 5 celles.\n",
      "Clusters are bigger than 5 celles.\n",
      "Clusters are bigger than 5 celles.\n",
      "Clusters are bigger than 5 celles.\n",
      "Clusters are bigger than 5 celles.\n",
      "Clusters are bigger than 5 celles.\n",
      "Clusters are bigger than 5 celles.\n",
      "Clusters are bigger than 5 celles.\n",
      "Clusters are bigger than 5 celles.\n",
      "Clusters are bigger than 5 celles.\n",
      "Clusters are bigger than 5 celles.\n",
      "Clusters are bigger than 5 celles.\n",
      "This took  181.0589497089386 s\n",
      "(718938, 2)\n",
      "(718938, 5, 5)\n"
     ]
    }
   ],
   "source": [
    "clusters5x5, coord, ind_del = mf.form_cluster(xMC, yMC, EMC)\n",
    "clusters = clusters5x5.reshape((clusters5x5.shape[0], 25))"
   ]
  },
  {
   "cell_type": "code",
   "execution_count": 4,
   "id": "fb389e76",
   "metadata": {},
   "outputs": [
    {
     "name": "stdout",
     "output_type": "stream",
     "text": [
      "(718938, 25)\n",
      "(718938, 2)\n",
      "31\n",
      "718969\n"
     ]
    }
   ],
   "source": [
    "print(clusters.shape)\n",
    "print(coord.shape)\n",
    "print(len(ind_del))\n",
    "print(len(x_truth))"
   ]
  },
  {
   "cell_type": "code",
   "execution_count": 5,
   "id": "137720fd",
   "metadata": {},
   "outputs": [],
   "source": [
    "# delete clusters that are bigger than 5 -> next time: do it in phast user event?\n",
    "xMC = np.delete(xMC, ind_del, axis=0)\n",
    "yMC = np.delete(yMC, ind_del, axis=0)\n",
    "EMC = np.delete(EMC, ind_del, axis=0)\n",
    "x_truth = np.delete(x_truth, ind_del)\n",
    "y_truth = np.delete(y_truth, ind_del)\n",
    "E_truth = np.delete(E_truth, ind_del)\n",
    "x_fit = np.delete(x_fit, ind_del)\n",
    "y_fit = np.delete(y_fit, ind_del)\n",
    "E_fit = np.delete(E_fit, ind_del)"
   ]
  },
  {
   "cell_type": "code",
   "execution_count": 6,
   "id": "10251671",
   "metadata": {},
   "outputs": [],
   "source": [
    "# devide into training and verification \n",
    "xMC_train = xMC[:round(len(E_truth)*0.8)]\n",
    "xMC_veri = xMC[round(len(E_truth)*0.8):]\n",
    "\n",
    "yMC_train = yMC[:round(len(E_truth)*0.8)]\n",
    "yMC_veri = yMC[round(len(E_truth)*0.8):]\n",
    "\n",
    "EMC_train = EMC[:round(len(E_truth)*0.8)]\n",
    "EMC_veri = EMC[round(len(E_truth)*0.8):]\n",
    "\n",
    "x_truth_train = x_truth[:round(len(E_truth)*0.8)]\n",
    "x_truth_veri = x_truth[round(len(E_truth)*0.8):]\n",
    "\n",
    "y_truth_train = y_truth[:round(len(E_truth)*0.8)]\n",
    "y_truth_veri = y_truth[round(len(E_truth)*0.8):]\n",
    "\n",
    "E_truth_train = E_truth[:round(len(E_truth)*0.8)]\n",
    "E_truth_veri = E_truth[round(len(E_truth)*0.8):]\n",
    "\n",
    "x_fit_veri = x_fit[round(len(E_truth)*0.8):]\n",
    "y_fit_veri = y_fit[round(len(E_truth)*0.8):]\n",
    "E_fit_veri = E_fit[round(len(E_truth)*0.8):]\n",
    "\n",
    "clusters_t =  clusters[:round(len(E_truth)*0.8)]\n",
    "clusters_v = clusters[round(len(E_truth)*0.8):]\n",
    "\n",
    "coord_t = coord[:round(len(E_truth)*0.8)]\n",
    "coord_v = coord[round(len(E_truth)*0.8):]"
   ]
  },
  {
   "cell_type": "markdown",
   "id": "8cb1c2d2",
   "metadata": {},
   "source": [
    "Use 'form_cluster' and 'fill_zeros' for making the cluster shapes. Watch out, the zeros are not completely random, the probability is higher that a cluster will be in the center. Should not matter much. I use the lower left corner as a relative coordinate system as the clusters where cut out in differnet places on the ecal (but all should be shashlik cells). No normalization is used."
   ]
  },
  {
   "cell_type": "markdown",
   "id": "fd85cf11",
   "metadata": {},
   "source": [
    "Prep trainingsdata to match above - I need to apply the relative coordinate system."
   ]
  },
  {
   "cell_type": "code",
   "execution_count": 7,
   "id": "85ba6edf",
   "metadata": {},
   "outputs": [
    {
     "name": "stdout",
     "output_type": "stream",
     "text": [
      "(575150, 3)\n"
     ]
    }
   ],
   "source": [
    "training = mf.prep_trainingsdata(x_truth_train, y_truth_train, E_truth_train, coord_t)\n",
    "print(training.shape) # (575150, 3)"
   ]
  },
  {
   "cell_type": "markdown",
   "id": "cad2a2d0",
   "metadata": {},
   "source": [
    "<h2> Simple NN </h2>\n",
    "\n",
    "The network is also kept simple! Use multiples of 32 for the number of neurons and make diamond shape net. Use Dense layers only. As all parameters are positive, relu should work well. No activation function at the end of the net so that the net is continous in the output layer."
   ]
  },
  {
   "cell_type": "code",
   "execution_count": 8,
   "id": "f27b83b9",
   "metadata": {},
   "outputs": [],
   "source": [
    "load = False\n",
    "if load==True:\n",
    "    model1 = keras.models.load_model('stage1model')\n",
    "    print(\"Using old model\")\n",
    "    model1.summary()"
   ]
  },
  {
   "cell_type": "code",
   "execution_count": 9,
   "id": "afc493b3",
   "metadata": {},
   "outputs": [
    {
     "name": "stdout",
     "output_type": "stream",
     "text": [
      "Model: \"sequential\"\n",
      "_________________________________________________________________\n",
      "Layer (type)                 Output Shape              Param #   \n",
      "=================================================================\n",
      "dense (Dense)                (None, 64)                1664      \n",
      "_________________________________________________________________\n",
      "dense_1 (Dense)              (None, 128)               8320      \n",
      "_________________________________________________________________\n",
      "dense_2 (Dense)              (None, 256)               33024     \n",
      "_________________________________________________________________\n",
      "dense_3 (Dense)              (None, 128)               32896     \n",
      "_________________________________________________________________\n",
      "dense_4 (Dense)              (None, 64)                8256      \n",
      "_________________________________________________________________\n",
      "dense_5 (Dense)              (None, 32)                2080      \n",
      "_________________________________________________________________\n",
      "dense_6 (Dense)              (None, 3)                 99        \n",
      "=================================================================\n",
      "Total params: 86,339\n",
      "Trainable params: 86,339\n",
      "Non-trainable params: 0\n",
      "_________________________________________________________________\n"
     ]
    }
   ],
   "source": [
    "if load == False:\n",
    "    model1 = keras.Sequential([layers.Input(shape=(25)),\n",
    "                             layers.Dense(64, activation=\"relu\"),\n",
    "                             layers.Dense(128, activation=\"relu\"),\n",
    "                             layers.Dense(256, activation=\"relu\"),\n",
    "                             layers.Dense(128, activation=\"relu\"),\n",
    "                             layers.Dense(64, activation=\"relu\"),\n",
    "                             layers.Dense(32, activation=\"relu\"),\n",
    "                             layers.Dense(3, activation=None)])\n",
    "    model1.summary()\n",
    "    model1.compile(loss=\"mean_squared_error\", optimizer=Adam(learning_rate=0.0005))"
   ]
  },
  {
   "cell_type": "code",
   "execution_count": 10,
   "id": "e0676b3d",
   "metadata": {},
   "outputs": [
    {
     "name": "stdout",
     "output_type": "stream",
     "text": [
      "Epoch 1/50\n",
      "10353/10353 [==============================] - 19s 2ms/step - loss: 18.1180 - val_loss: 4.1400\n",
      "Epoch 2/50\n",
      "10353/10353 [==============================] - 18s 2ms/step - loss: 1.5106 - val_loss: 0.3645\n",
      "Epoch 3/50\n",
      "10353/10353 [==============================] - 18s 2ms/step - loss: 0.2382 - val_loss: 0.3333\n",
      "Epoch 4/50\n",
      "10353/10353 [==============================] - 18s 2ms/step - loss: 0.0366 - val_loss: 0.0136\n",
      "Epoch 5/50\n",
      "10353/10353 [==============================] - 18s 2ms/step - loss: 0.0183 - val_loss: 0.0315\n",
      "Epoch 6/50\n",
      "10353/10353 [==============================] - 18s 2ms/step - loss: 0.0148 - val_loss: 0.0113\n",
      "Epoch 7/50\n",
      "10353/10353 [==============================] - 18s 2ms/step - loss: 0.0119 - val_loss: 0.0078\n",
      "Epoch 8/50\n",
      "10353/10353 [==============================] - 18s 2ms/step - loss: 0.0107 - val_loss: 0.0054\n",
      "Epoch 9/50\n",
      "10353/10353 [==============================] - 18s 2ms/step - loss: 0.0101 - val_loss: 0.0057\n",
      "Epoch 10/50\n",
      "10353/10353 [==============================] - 18s 2ms/step - loss: 0.0096 - val_loss: 0.0601\n",
      "Epoch 11/50\n",
      "10353/10353 [==============================] - 18s 2ms/step - loss: 0.0095 - val_loss: 0.0049\n",
      "Epoch 12/50\n",
      "10353/10353 [==============================] - 18s 2ms/step - loss: 0.0087 - val_loss: 0.0041\n",
      "Epoch 13/50\n",
      "10353/10353 [==============================] - 18s 2ms/step - loss: 0.0080 - val_loss: 0.0101\n",
      "Epoch 14/50\n",
      "10353/10353 [==============================] - 18s 2ms/step - loss: 0.0080 - val_loss: 0.0068\n",
      "Epoch 15/50\n",
      "10353/10353 [==============================] - 18s 2ms/step - loss: 0.0078 - val_loss: 0.0078\n",
      "Epoch 16/50\n",
      "10353/10353 [==============================] - 18s 2ms/step - loss: 0.0076 - val_loss: 0.0056\n",
      "Epoch 17/50\n",
      "10353/10353 [==============================] - 18s 2ms/step - loss: 0.0076 - val_loss: 0.0046\n",
      "Epoch 18/50\n",
      "10353/10353 [==============================] - 18s 2ms/step - loss: 0.0071 - val_loss: 0.0069\n",
      "Epoch 19/50\n",
      "10353/10353 [==============================] - 18s 2ms/step - loss: 0.0073 - val_loss: 0.0032\n",
      "Epoch 20/50\n",
      "10353/10353 [==============================] - 18s 2ms/step - loss: 0.0070 - val_loss: 0.0308\n",
      "Epoch 21/50\n",
      "10353/10353 [==============================] - 18s 2ms/step - loss: 0.0068 - val_loss: 0.0037\n",
      "Epoch 22/50\n",
      "10353/10353 [==============================] - 18s 2ms/step - loss: 0.0067 - val_loss: 0.0039\n",
      "Epoch 23/50\n",
      "10353/10353 [==============================] - 18s 2ms/step - loss: 0.0065 - val_loss: 0.0107\n",
      "Epoch 24/50\n",
      "10353/10353 [==============================] - 18s 2ms/step - loss: 0.0065 - val_loss: 0.0068\n",
      "Epoch 25/50\n",
      "10353/10353 [==============================] - 18s 2ms/step - loss: 0.0064 - val_loss: 0.0077\n",
      "Epoch 26/50\n",
      "10353/10353 [==============================] - 18s 2ms/step - loss: 0.0064 - val_loss: 0.0040\n",
      "Epoch 27/50\n",
      "10353/10353 [==============================] - 18s 2ms/step - loss: 0.0063 - val_loss: 0.0036\n",
      "Epoch 28/50\n",
      "10353/10353 [==============================] - 18s 2ms/step - loss: 0.0063 - val_loss: 0.0045\n",
      "Epoch 29/50\n",
      "10353/10353 [==============================] - 18s 2ms/step - loss: 0.0062 - val_loss: 0.0037\n",
      "Epoch 30/50\n",
      "10353/10353 [==============================] - 18s 2ms/step - loss: 0.0061 - val_loss: 0.0037\n",
      "Epoch 31/50\n",
      "10353/10353 [==============================] - 18s 2ms/step - loss: 0.0061 - val_loss: 0.0107\n",
      "Epoch 32/50\n",
      "10353/10353 [==============================] - 18s 2ms/step - loss: 0.0060 - val_loss: 0.0262\n",
      "Epoch 33/50\n",
      "10353/10353 [==============================] - 18s 2ms/step - loss: 0.0061 - val_loss: 0.0052\n",
      "Epoch 34/50\n",
      "10353/10353 [==============================] - 18s 2ms/step - loss: 0.0059 - val_loss: 0.0041\n",
      "Epoch 35/50\n",
      "10353/10353 [==============================] - 18s 2ms/step - loss: 0.0058 - val_loss: 0.0041\n",
      "Epoch 36/50\n",
      "10353/10353 [==============================] - 18s 2ms/step - loss: 0.0059 - val_loss: 0.0126\n",
      "Epoch 37/50\n",
      "10353/10353 [==============================] - 18s 2ms/step - loss: 0.0058 - val_loss: 0.0033\n",
      "Epoch 38/50\n",
      "10353/10353 [==============================] - 18s 2ms/step - loss: 0.0057 - val_loss: 0.0039\n",
      "Epoch 39/50\n",
      "10353/10353 [==============================] - 18s 2ms/step - loss: 0.0057 - val_loss: 0.0034\n",
      "Epoch 40/50\n",
      "10353/10353 [==============================] - 18s 2ms/step - loss: 0.0056 - val_loss: 0.0155\n",
      "Epoch 41/50\n",
      "10353/10353 [==============================] - 18s 2ms/step - loss: 0.0056 - val_loss: 0.0148\n",
      "Epoch 42/50\n",
      "10353/10353 [==============================] - 18s 2ms/step - loss: 0.0056 - val_loss: 0.0037\n",
      "Epoch 43/50\n",
      "10353/10353 [==============================] - 18s 2ms/step - loss: 0.0055 - val_loss: 0.0182\n",
      "Epoch 44/50\n",
      "10353/10353 [==============================] - 18s 2ms/step - loss: 0.0056 - val_loss: 0.0044\n",
      "Epoch 45/50\n",
      "10353/10353 [==============================] - 18s 2ms/step - loss: 0.0054 - val_loss: 0.0031\n",
      "Epoch 46/50\n",
      "10353/10353 [==============================] - 18s 2ms/step - loss: 0.0054 - val_loss: 0.0035\n",
      "Epoch 47/50\n",
      "10353/10353 [==============================] - 18s 2ms/step - loss: 0.0055 - val_loss: 0.0041\n",
      "Epoch 48/50\n",
      "10353/10353 [==============================] - 18s 2ms/step - loss: 0.0054 - val_loss: 0.0062\n",
      "Epoch 49/50\n",
      "10353/10353 [==============================] - 18s 2ms/step - loss: 0.0054 - val_loss: 0.0073\n",
      "Epoch 50/50\n",
      "10353/10353 [==============================] - 18s 2ms/step - loss: 0.0053 - val_loss: 0.0039\n"
     ]
    }
   ],
   "source": [
    "if load == False:\n",
    "    fit_hist = model1.fit(clusters_t, training, batch_size=50, epochs=50, validation_split=0.1)"
   ]
  },
  {
   "cell_type": "markdown",
   "id": "ba643b53",
   "metadata": {},
   "source": [
    "Evaluate how good the fitting worked. Plot trainings and validation loss\n",
    "As a thumb rule: $\\newline$\n",
    "- **Overfitting** if:  training loss << validation loss\n",
    "\n",
    "- **Underfitting** if:  training loss >> validation loss\n",
    "\n",
    "- **Just right** if training loss ~ validation loss"
   ]
  },
  {
   "cell_type": "code",
   "execution_count": 11,
   "id": "055d036e",
   "metadata": {},
   "outputs": [
    {
     "data": {
      "image/png": "[encoded data removed]",
      "text/plain": [
       "<Figure size 432x288 with 1 Axes>"
      ]
     },
     "metadata": {
      "needs_background": "light"
     },
     "output_type": "display_data"
    }
   ],
   "source": [
    "try:\n",
    "    plt.plot(fit_hist.history['loss'])\n",
    "    plt.plot(fit_hist.history['val_loss'])\n",
    "    plt.xlabel('Epoch')\n",
    "    plt.ylabel('Loss')\n",
    "    plt.legend([\"Training Loss\", \"Validation Loss\"])\n",
    "    plt.yscale('log')\n",
    "    plt.show()\n",
    "except:\n",
    "    pass"
   ]
  },
  {
   "cell_type": "code",
   "execution_count": 12,
   "id": "68eb0d67",
   "metadata": {},
   "outputs": [],
   "source": [
    "output = model1.predict(clusters_v)"
   ]
  },
  {
   "cell_type": "code",
   "execution_count": 13,
   "id": "603f43aa",
   "metadata": {},
   "outputs": [],
   "source": [
    "#keras.models.save_model(model1, 'stage1model')"
   ]
  },
  {
   "cell_type": "markdown",
   "id": "1160cdeb",
   "metadata": {},
   "source": [
    "<h2> Evaluation </h2> \n",
    "    \n",
    "    The distributions should be normal distributions for large data. Therefore a Gaus-function is fitted for all bin where counts > max counts at peak * 30 % as shown with the red graphs. "
   ]
  },
  {
   "cell_type": "code",
   "execution_count": 14,
   "id": "3dfb81e4",
   "metadata": {},
   "outputs": [],
   "source": [
    "veri_truth_data = mf.prep_trainingsdata(x_truth_veri, y_truth_veri, E_truth_veri, coord_v)"
   ]
  },
  {
   "cell_type": "code",
   "execution_count": 15,
   "id": "9a929806",
   "metadata": {},
   "outputs": [],
   "source": [
    "veri_fit_data = mf.prep_trainingsdata(x_fit_veri, y_fit_veri, E_fit_veri, coord_v)"
   ]
  },
  {
   "cell_type": "code",
   "execution_count": 16,
   "id": "93631f92",
   "metadata": {},
   "outputs": [
    {
     "data": {
      "image/png": "[encoded data removed]",
      "text/plain": [
       "<Figure size 720x432 with 2 Axes>"
      ]
     },
     "metadata": {
      "needs_background": "light"
     },
     "output_type": "display_data"
    },
    {
     "data": {
      "text/plain": [
       "(array([3.48815467e-02, 5.43212221e-02, 9.29398464e+02]),\n",
       " array([3.36194559e-04, 4.61193919e-04, 6.30609229e+00]),\n",
       " array([1.81492250e-02, 1.47273909e-01, 1.50082021e+03]),\n",
       " array([1.16207871e-02, 2.74487217e-02, 2.33705332e+02]))"
      ]
     },
     "execution_count": 16,
     "metadata": {},
     "output_type": "execute_result"
    }
   ],
   "source": [
    "mf.histo_output(output.T[0], veri_fit_data.T[0], veri_truth_data.T[0], name=\"x\", bins=300)"
   ]
  },
  {
   "cell_type": "markdown",
   "id": "f816f549",
   "metadata": {},
   "source": [
    "The lower plot doesn't really look like a gaus... Dominik will soon provide better data"
   ]
  },
  {
   "cell_type": "code",
   "execution_count": 17,
   "id": "6445afa9",
   "metadata": {},
   "outputs": [
    {
     "data": {
      "image/png": "[encoded data removed]",
      "text/plain": [
       "<Figure size 720x432 with 2 Axes>"
      ]
     },
     "metadata": {
      "needs_background": "light"
     },
     "output_type": "display_data"
    },
    {
     "data": {
      "text/plain": [
       "(array([4.03011951e-02, 4.43824699e-02, 8.86143127e+02]),\n",
       " array([4.88954419e-04, 6.55011872e-04, 1.04968306e+01]),\n",
       " array([-3.59335380e-03, -1.07901939e-01,  1.31559350e+03]),\n",
       " array([7.84167892e-03, 1.66460001e-02, 1.64990425e+02]))"
      ]
     },
     "execution_count": 17,
     "metadata": {},
     "output_type": "execute_result"
    }
   ],
   "source": [
    "mf.histo_output(output.T[1], veri_fit_data.T[1], veri_truth_data.T[1], name=\"y\")"
   ]
  },
  {
   "cell_type": "code",
   "execution_count": 24,
   "id": "e2b99a54",
   "metadata": {},
   "outputs": [],
   "source": [
    "def E_histo(arr_NN, arr_fit, arr_truth, name='', figsave=False, range_x = (-2.5,9), bins=300): \n",
    "    plt.rcParams[\"figure.figsize\"] = (10,6)\n",
    "    plt.subplot(2,1,1)\n",
    "    n_counts, bins, patches = plt.hist(arr_NN-arr_truth, bins=bins, range=range_x)\n",
    "    plt.title(name + \" difference NN - truth\")\n",
    "    \n",
    "    plt.subplot(2,1,2)\n",
    "    n_counts, bins, patches = plt.hist(arr_fit-arr_truth, bins=bins, range=range_x)\n",
    "    plt.title(name + \" difference fit - truth\")\n",
    "    \n",
    "    plt.tight_layout()\n",
    "    if figsave == True:\n",
    "        plt.savefig(name+\"_histo.pdf\")\n",
    "    plt.show()"
   ]
  },
  {
   "cell_type": "code",
   "execution_count": 25,
   "id": "53d3aaae",
   "metadata": {},
   "outputs": [
    {
     "data": {
      "image/png": "[encoded data removed]",
      "text/plain": [
       "<Figure size 720x432 with 2 Axes>"
      ]
     },
     "metadata": {
      "needs_background": "light"
     },
     "output_type": "display_data"
    }
   ],
   "source": [
    "E_histo(output.T[2], veri_fit_data.T[2], veri_truth_data.T[2], name=\"E\")"
   ]
  },
  {
   "cell_type": "markdown",
   "id": "e8e5f299",
   "metadata": {},
   "source": [
    "<h2> Summary </h2>\n",
    "\n",
    "The NN learns the energy quite well, struggles with the x/y postition to get a lot better than coral. The ratio from trainings loss to validation loss is satisfying although it's quite spiky. How can I make the NN work with more precision?\n",
    "\n",
    "| (x/y/E) | $\\mu$ | $\\sigma$ |\n",
    "| --- | --- | --- |\n",
    "| simplest model wrong | 0.107 / 0.070 / 0.081 | 0.071 / 0.066 / 0.054 |\n",
    "| simplest model correct |0.035 / 0.040 / - | 0.054 / 0.044 / -|\n",
    "\n",
    "\n",
    "**Next step**: normalisation of input/output to gain more precision."
   ]
  },
  {
   "cell_type": "code",
   "execution_count": null,
   "id": "a62ccdcf",
   "metadata": {},
   "outputs": [],
   "source": []
  }
 ],
 "metadata": {
  "kernelspec": {
   "display_name": "Python 3",
   "language": "python",
   "name": "python3"
  },
  "language_info": {
   "codemirror_mode": {
    "name": "ipython",
    "version": 3
   },
   "file_extension": ".py",
   "mimetype": "text/x-python",
   "name": "python",
   "nbconvert_exporter": "python",
   "pygments_lexer": "ipython3",
   "version": "3.6.8"
  }
 },
 "nbformat": 4,
 "nbformat_minor": 5
}
