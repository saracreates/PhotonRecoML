{
 "cells": [
  {
   "cell_type": "markdown",
   "id": "c5c2e3c2",
   "metadata": {},
   "source": [
    "<h1> Loss: Mean Absolute Percentage Error </h1>\n",
    "\n",
    "As the notebook \"stage2_sum_input\" proposes I'd like to try an other loss function to penalize all wrong values with the same weight."
   ]
  },
  {
   "cell_type": "code",
   "execution_count": null,
   "id": "dc88f900",
   "metadata": {},
   "outputs": [],
   "source": [
    "import myfunctions as mf\n",
    "import tensorflow as tf\n",
    "from tensorflow import keras\n",
    "from tensorflow.keras import layers\n",
    "import numpy as np\n",
    "import matplotlib.pyplot as plt\n",
    "import uproot\n",
    "from tensorflow.keras.optimizers import Adam\n",
    "import time\n",
    "from scipy.optimize import curve_fit"
   ]
  },
  {
   "cell_type": "code",
   "execution_count": 2,
   "id": "270272f4",
   "metadata": {},
   "outputs": [],
   "source": [
    "# load data\n",
    "rootfile = uproot.open(\"./stage2_clusters.root\")\n",
    "event = rootfile[\"user202302;1\"]\n",
    "xMC = event[\"x_MC\"].array(library=\"np\") #[:40000]\n",
    "yMC = event[\"y_MC\"].array(library=\"np\") #[:40000]\n",
    "EMC = event[\"E_MC\"].array(library=\"np\") #[:40000]\n",
    "x_truth = event[\"x_truth\"].array(library=\"np\") #[:40000]\n",
    "y_truth = event[\"y_truth\"].array(library=\"np\") #[:40000]\n",
    "E_truth = event[\"E_truth\"].array(library=\"np\") #[:40000]\n",
    "x_fit = event[\"x_fit\"].array(library=\"np\") #[:40000]\n",
    "y_fit = event[\"y_fit\"].array(library=\"np\") #[:40000]\n",
    "E_fit = event[\"E_fit\"].array(library=\"np\") #[:40000]"
   ]
  },
  {
   "cell_type": "code",
   "execution_count": 3,
   "id": "d0645921",
   "metadata": {},
   "outputs": [
    {
     "name": "stdout",
     "output_type": "stream",
     "text": [
      "This took  166.26897025108337 s\n"
     ]
    }
   ],
   "source": [
    "clustersNxN, coord, ind_del = mf.form_cluster(xMC, yMC, EMC)"
   ]
  },
  {
   "cell_type": "code",
   "execution_count": 4,
   "id": "6796f942",
   "metadata": {},
   "outputs": [],
   "source": [
    "clusters = clustersNxN.reshape((clustersNxN.shape[0], 25))\n",
    "# cut data and from trainings and test data\n",
    "xMC_train, xMC_veri, yMC_train, yMC_veri, EMC_train, EMC_veri, x_truth_train, x_truth_veri, y_truth_train, y_truth_veri, E_truth_train, E_truth_veri, x_fit_veri, y_fit_veri, E_fit_veri, clusters_t, clusters_v, coord_t, coord_v = mf.training_and_validation_data(xMC, yMC, EMC, x_truth, y_truth, E_truth, x_fit, y_fit, E_fit, ind_del, clusters, coord)\n",
    "\n",
    "# prep data\n",
    "training = mf.prep_trainingsdata(x_truth_train, y_truth_train, E_truth_train, coord_t)\n",
    "veri_truth_data = mf.prep_trainingsdata(x_truth_veri, y_truth_veri, E_truth_veri, coord_v)\n",
    "veri_fit_data = mf.prep_trainingsdata(x_fit_veri, y_fit_veri, E_fit_veri, coord_v)\n",
    "\n",
    "# standardize input\n",
    "clusters_t = mf.standardscore(clusters_t)\n",
    "clusters_v = mf.standardscore(clusters_v)"
   ]
  },
  {
   "cell_type": "markdown",
   "id": "b6c3f234",
   "metadata": {},
   "source": [
    "Now define model with new loss function. Use [this](https://keras.io/api/optimizers/learning_rate_schedules/exponential_decay/) for decaying learning rate."
   ]
  },
  {
   "cell_type": "code",
   "execution_count": 61,
   "id": "2781e633",
   "metadata": {},
   "outputs": [
    {
     "name": "stdout",
     "output_type": "stream",
     "text": [
      "Model: \"sequential_23\"\n",
      "_________________________________________________________________\n",
      "Layer (type)                 Output Shape              Param #   \n",
      "=================================================================\n",
      "dense_161 (Dense)            (None, 64)                1664      \n",
      "_________________________________________________________________\n",
      "dense_162 (Dense)            (None, 128)               8320      \n",
      "_________________________________________________________________\n",
      "dense_163 (Dense)            (None, 256)               33024     \n",
      "_________________________________________________________________\n",
      "dense_164 (Dense)            (None, 128)               32896     \n",
      "_________________________________________________________________\n",
      "dense_165 (Dense)            (None, 64)                8256      \n",
      "_________________________________________________________________\n",
      "dense_166 (Dense)            (None, 32)                2080      \n",
      "_________________________________________________________________\n",
      "dense_167 (Dense)            (None, 3)                 99        \n",
      "=================================================================\n",
      "Total params: 86,339\n",
      "Trainable params: 86,339\n",
      "Non-trainable params: 0\n",
      "_________________________________________________________________\n"
     ]
    }
   ],
   "source": [
    "'''\n",
    "initial_learning_rate = 0.00001\n",
    "lr_schedule = tf.keras.optimizers.schedules.ExponentialDecay(\n",
    "    initial_learning_rate,\n",
    "    decay_steps=10000,\n",
    "    decay_rate=0.80,\n",
    "    staircase=True)\n",
    "'''\n",
    "\n",
    "initial_learning_rate = 0.00001\n",
    "lr_schedule = tf.keras.optimizers.schedules.ExponentialDecay(\n",
    "    initial_learning_rate,\n",
    "    decay_steps=10000,\n",
    "    decay_rate=0.80)\n",
    "\n",
    "model19 = keras.Sequential([layers.Input(shape=(25)),\n",
    "                         layers.Dense(64, activation=\"relu\"),\n",
    "                         layers.Dense(128, activation=\"relu\"),\n",
    "                         layers.Dense(256, activation=\"relu\"),\n",
    "                         layers.Dense(128, activation=\"relu\"),\n",
    "                         layers.Dense(64, activation=\"relu\"),\n",
    "                         layers.Dense(32, activation=\"relu\"),\n",
    "                         layers.Dense(3, activation=None)])\n",
    "model19.summary()\n",
    "\n",
    "\n",
    "\n",
    "model19.compile(loss=tf.keras.losses.MeanAbsolutePercentageError(), \n",
    "                optimizer=keras.optimizers.Adam(learning_rate=lr_schedule))"
   ]
  },
  {
   "cell_type": "code",
   "execution_count": 62,
   "id": "609da58f",
   "metadata": {},
   "outputs": [
    {
     "name": "stdout",
     "output_type": "stream",
     "text": [
      "Epoch 1/20\n",
      "8482/8482 [==============================] - 7s 843us/step - loss: 475.6959 - val_loss: 44.9451\n",
      "Epoch 2/20\n",
      "8482/8482 [==============================] - 7s 837us/step - loss: 526.0564 - val_loss: 32.4072\n",
      "Epoch 3/20\n",
      "8482/8482 [==============================] - 7s 835us/step - loss: 437.0274 - val_loss: 23.6016\n",
      "Epoch 4/20\n",
      "8482/8482 [==============================] - 7s 837us/step - loss: 323.5670 - val_loss: 16.1391\n",
      "Epoch 5/20\n",
      "8482/8482 [==============================] - 7s 840us/step - loss: 263.9375 - val_loss: 14.8545\n",
      "Epoch 6/20\n",
      "8482/8482 [==============================] - 7s 843us/step - loss: 220.8274 - val_loss: 14.0776\n",
      "Epoch 7/20\n",
      "8482/8482 [==============================] - 7s 838us/step - loss: 184.3290 - val_loss: 13.5511\n",
      "Epoch 8/20\n",
      "8482/8482 [==============================] - 7s 837us/step - loss: 158.2913 - val_loss: 13.0931\n",
      "Epoch 9/20\n",
      "8482/8482 [==============================] - 7s 860us/step - loss: 138.2494 - val_loss: 12.7561\n",
      "Epoch 10/20\n",
      "8482/8482 [==============================] - 7s 838us/step - loss: 118.7986 - val_loss: 12.4940\n",
      "Epoch 11/20\n",
      "8482/8482 [==============================] - 7s 838us/step - loss: 103.9493 - val_loss: 12.2734\n",
      "Epoch 12/20\n",
      "8482/8482 [==============================] - 7s 839us/step - loss: 90.1277 - val_loss: 12.1021\n",
      "Epoch 13/20\n",
      "8482/8482 [==============================] - 7s 839us/step - loss: 80.0789 - val_loss: 11.9773\n",
      "Epoch 14/20\n",
      "8482/8482 [==============================] - 7s 836us/step - loss: 71.4467 - val_loss: 11.8120\n",
      "Epoch 15/20\n",
      "8482/8482 [==============================] - 7s 840us/step - loss: 64.2754 - val_loss: 11.7476\n",
      "Epoch 16/20\n",
      "8482/8482 [==============================] - 7s 836us/step - loss: 57.8886 - val_loss: 11.6878\n",
      "Epoch 17/20\n",
      "8482/8482 [==============================] - 7s 839us/step - loss: 52.8561 - val_loss: 11.6260\n",
      "Epoch 18/20\n",
      "8482/8482 [==============================] - 7s 838us/step - loss: 49.5577 - val_loss: 11.5787\n",
      "Epoch 19/20\n",
      "8482/8482 [==============================] - 7s 836us/step - loss: 45.9439 - val_loss: 11.5404\n",
      "Epoch 20/20\n",
      "8482/8482 [==============================] - 7s 837us/step - loss: 43.2175 - val_loss: 11.5094\n",
      "This took  2.3785750309626263 min\n"
     ]
    }
   ],
   "source": [
    "a = time.time()\n",
    "fit_hist = model19.fit(clusters_t, training, batch_size=64, epochs=20, validation_split=0.1)\n",
    "b = time.time()\n",
    "\n",
    "print(\"This took \", (b-a)/60, \"min\")"
   ]
  },
  {
   "cell_type": "code",
   "execution_count": 63,
   "id": "4e21402f",
   "metadata": {},
   "outputs": [
    {
     "data": {
      "image/png": "[encoded data removed]",
      "text/plain": [
       "<Figure size 720x432 with 1 Axes>"
      ]
     },
     "metadata": {
      "needs_background": "light"
     },
     "output_type": "display_data"
    }
   ],
   "source": [
    "plt.rcParams[\"figure.figsize\"] = (10,6)\n",
    "mf.training_vs_validation_loss(fit_hist)"
   ]
  },
  {
   "cell_type": "code",
   "execution_count": 64,
   "id": "c1bfa1ba",
   "metadata": {},
   "outputs": [
    {
     "name": "stdout",
     "output_type": "stream",
     "text": [
      "Epoch 1/20\n",
      "8482/8482 [==============================] - 7s 844us/step - loss: 40.9690 - val_loss: 11.4844\n",
      "Epoch 2/20\n",
      "8482/8482 [==============================] - 7s 843us/step - loss: 39.3852 - val_loss: 11.4549\n",
      "Epoch 3/20\n",
      "8482/8482 [==============================] - 7s 845us/step - loss: 38.0950 - val_loss: 11.4380\n",
      "Epoch 4/20\n",
      "8482/8482 [==============================] - 7s 871us/step - loss: 36.7599 - val_loss: 11.4251\n",
      "Epoch 5/20\n",
      "8482/8482 [==============================] - 7s 872us/step - loss: 35.6501 - val_loss: 11.4136\n",
      "Epoch 6/20\n",
      "8482/8482 [==============================] - 7s 874us/step - loss: 34.7689 - val_loss: 11.4046\n",
      "Epoch 7/20\n",
      "8482/8482 [==============================] - 7s 873us/step - loss: 34.0887 - val_loss: 11.3954\n",
      "Epoch 8/20\n",
      "8482/8482 [==============================] - 7s 874us/step - loss: 33.5120 - val_loss: 11.3895\n",
      "Epoch 9/20\n",
      "8482/8482 [==============================] - 7s 847us/step - loss: 33.0395 - val_loss: 11.3845\n",
      "Epoch 10/20\n",
      "8482/8482 [==============================] - 7s 846us/step - loss: 32.6498 - val_loss: 11.3807\n",
      "Epoch 11/20\n",
      "8482/8482 [==============================] - 7s 867us/step - loss: 32.3314 - val_loss: 11.3770\n",
      "Epoch 12/20\n",
      "8482/8482 [==============================] - 7s 874us/step - loss: 32.0771 - val_loss: 11.3746\n",
      "Epoch 13/20\n",
      "8482/8482 [==============================] - 7s 874us/step - loss: 31.8590 - val_loss: 11.3725\n",
      "Epoch 14/20\n",
      "8482/8482 [==============================] - 7s 845us/step - loss: 31.6875 - val_loss: 11.3712\n",
      "Epoch 15/20\n",
      "8482/8482 [==============================] - 7s 845us/step - loss: 31.5329 - val_loss: 11.3704\n",
      "Epoch 16/20\n",
      "8482/8482 [==============================] - 7s 843us/step - loss: 31.4228 - val_loss: 11.3692\n",
      "Epoch 17/20\n",
      "8482/8482 [==============================] - 7s 844us/step - loss: 31.3282 - val_loss: 11.3687\n",
      "Epoch 18/20\n",
      "8482/8482 [==============================] - 7s 846us/step - loss: 31.2455 - val_loss: 11.3684\n",
      "Epoch 19/20\n",
      "8482/8482 [==============================] - 7s 846us/step - loss: 31.1739 - val_loss: 11.3683\n",
      "Epoch 20/20\n",
      "8482/8482 [==============================] - 7s 844us/step - loss: 31.1221 - val_loss: 11.3681\n",
      "This took  2.4215487480163573 min\n"
     ]
    }
   ],
   "source": [
    "a = time.time()\n",
    "fit_hist1 = model19.fit(clusters_t, training, batch_size=64, epochs=20, validation_split=0.1)\n",
    "b = time.time()\n",
    "\n",
    "print(\"This took \", (b-a)/60, \"min\")"
   ]
  },
  {
   "cell_type": "code",
   "execution_count": 66,
   "id": "ef8f97f6",
   "metadata": {},
   "outputs": [
    {
     "data": {
      "image/png": "[encoded data removed]",
      "text/plain": [
       "<Figure size 720x432 with 1 Axes>"
      ]
     },
     "metadata": {
      "needs_background": "light"
     },
     "output_type": "display_data"
    }
   ],
   "source": [
    "plt.rcParams[\"figure.figsize\"] = (10,6)\n",
    "mf.training_vs_validation_loss(fit_hist1)"
   ]
  },
  {
   "cell_type": "code",
   "execution_count": 19,
   "id": "498564b7",
   "metadata": {},
   "outputs": [
    {
     "name": "stdout",
     "output_type": "stream",
     "text": [
      "Epoch 1/180\n",
      "8482/8482 [==============================] - 7s 839us/step - loss: 26.3075 - val_loss: 8.4542\n",
      "Epoch 2/180\n",
      "8482/8482 [==============================] - 7s 849us/step - loss: 23.0249 - val_loss: 8.2552\n",
      "Epoch 3/180\n",
      "8482/8482 [==============================] - 7s 838us/step - loss: 34.4798 - val_loss: 8.1363\n",
      "Epoch 4/180\n",
      "8482/8482 [==============================] - 7s 840us/step - loss: 20.3479 - val_loss: 7.9589\n",
      "Epoch 5/180\n",
      "8482/8482 [==============================] - 7s 842us/step - loss: 40.8054 - val_loss: 7.9100\n",
      "Epoch 6/180\n",
      "8482/8482 [==============================] - 7s 845us/step - loss: 18.7267 - val_loss: 7.7491\n",
      "Epoch 7/180\n",
      "8482/8482 [==============================] - 7s 844us/step - loss: 44.5191 - val_loss: 7.7806\n",
      "Epoch 8/180\n",
      "8482/8482 [==============================] - 7s 845us/step - loss: 15.1685 - val_loss: 7.5445\n",
      "Epoch 9/180\n",
      "8482/8482 [==============================] - 7s 846us/step - loss: 50.4134 - val_loss: 7.5275\n",
      "Epoch 10/180\n",
      "8482/8482 [==============================] - 7s 848us/step - loss: 8.7192 - val_loss: 7.3870\n",
      "Epoch 11/180\n",
      "8482/8482 [==============================] - 7s 842us/step - loss: 57.9886 - val_loss: 7.3639\n",
      "Epoch 12/180\n",
      "8482/8482 [==============================] - 7s 845us/step - loss: 7.8704 - val_loss: 7.2601\n",
      "Epoch 13/180\n",
      "8482/8482 [==============================] - 7s 841us/step - loss: 57.0654 - val_loss: 7.2084\n",
      "Epoch 14/180\n",
      "8482/8482 [==============================] - 7s 841us/step - loss: 7.5094 - val_loss: 7.1102\n",
      "Epoch 15/180\n",
      "8482/8482 [==============================] - 7s 870us/step - loss: 59.9473 - val_loss: 7.1080\n",
      "Epoch 16/180\n",
      "8482/8482 [==============================] - 7s 865us/step - loss: 9.5362 - val_loss: 7.0978\n",
      "Epoch 17/180\n",
      "8482/8482 [==============================] - 7s 842us/step - loss: 39.4797 - val_loss: 6.9290\n",
      "Epoch 18/180\n",
      "8482/8482 [==============================] - 7s 845us/step - loss: 14.2169 - val_loss: 6.9154\n",
      "Epoch 19/180\n",
      "8482/8482 [==============================] - 7s 842us/step - loss: 32.9730 - val_loss: 6.7947\n",
      "Epoch 20/180\n",
      "8482/8482 [==============================] - 7s 841us/step - loss: 24.7375 - val_loss: 6.7621\n",
      "Epoch 21/180\n",
      " 942/8482 [==>...........................] - ETA: 6s - loss: 6.8093"
     ]
    },
    {
     "ename": "KeyboardInterrupt",
     "evalue": "",
     "output_type": "error",
     "traceback": [
      "\u001b[0;31m---------------------------------------------------------------------------\u001b[0m",
      "\u001b[0;31mKeyboardInterrupt\u001b[0m                         Traceback (most recent call last)",
      "\u001b[0;32m<ipython-input-19-eb41fd3cd34c>\u001b[0m in \u001b[0;36m<module>\u001b[0;34m\u001b[0m\n\u001b[1;32m      1\u001b[0m \u001b[0ma\u001b[0m \u001b[0;34m=\u001b[0m \u001b[0mtime\u001b[0m\u001b[0;34m.\u001b[0m\u001b[0mtime\u001b[0m\u001b[0;34m(\u001b[0m\u001b[0;34m)\u001b[0m\u001b[0;34m\u001b[0m\u001b[0;34m\u001b[0m\u001b[0m\n\u001b[0;32m----> 2\u001b[0;31m \u001b[0mfit_hist1\u001b[0m \u001b[0;34m=\u001b[0m \u001b[0mmodel5\u001b[0m\u001b[0;34m.\u001b[0m\u001b[0mfit\u001b[0m\u001b[0;34m(\u001b[0m\u001b[0mclusters_t\u001b[0m\u001b[0;34m,\u001b[0m \u001b[0mtraining\u001b[0m\u001b[0;34m,\u001b[0m \u001b[0mbatch_size\u001b[0m\u001b[0;34m=\u001b[0m\u001b[0;36m64\u001b[0m\u001b[0;34m,\u001b[0m \u001b[0mepochs\u001b[0m\u001b[0;34m=\u001b[0m\u001b[0;36m180\u001b[0m\u001b[0;34m,\u001b[0m \u001b[0mvalidation_split\u001b[0m\u001b[0;34m=\u001b[0m\u001b[0;36m0.1\u001b[0m\u001b[0;34m)\u001b[0m\u001b[0;34m\u001b[0m\u001b[0;34m\u001b[0m\u001b[0m\n\u001b[0m\u001b[1;32m      3\u001b[0m \u001b[0mb\u001b[0m \u001b[0;34m=\u001b[0m \u001b[0mtime\u001b[0m\u001b[0;34m.\u001b[0m\u001b[0mtime\u001b[0m\u001b[0;34m(\u001b[0m\u001b[0;34m)\u001b[0m\u001b[0;34m\u001b[0m\u001b[0;34m\u001b[0m\u001b[0m\n\u001b[1;32m      4\u001b[0m \u001b[0;34m\u001b[0m\u001b[0m\n\u001b[1;32m      5\u001b[0m \u001b[0mprint\u001b[0m\u001b[0;34m(\u001b[0m\u001b[0;34m\"This took \"\u001b[0m\u001b[0;34m,\u001b[0m \u001b[0;34m(\u001b[0m\u001b[0mb\u001b[0m\u001b[0;34m-\u001b[0m\u001b[0ma\u001b[0m\u001b[0;34m)\u001b[0m\u001b[0;34m/\u001b[0m\u001b[0;36m60\u001b[0m\u001b[0;34m,\u001b[0m \u001b[0;34m\"min\"\u001b[0m\u001b[0;34m)\u001b[0m\u001b[0;34m\u001b[0m\u001b[0;34m\u001b[0m\u001b[0m\n",
      "\u001b[0;32m/nfs/freenas/tuph/e18/project/compass/analysis/saumiller/ecal/python_NNenv/lib64/python3.6/site-packages/keras/engine/training.py\u001b[0m in \u001b[0;36mfit\u001b[0;34m(self, x, y, batch_size, epochs, verbose, callbacks, validation_split, validation_data, shuffle, class_weight, sample_weight, initial_epoch, steps_per_epoch, validation_steps, validation_batch_size, validation_freq, max_queue_size, workers, use_multiprocessing)\u001b[0m\n\u001b[1;32m   1182\u001b[0m                 _r=1):\n\u001b[1;32m   1183\u001b[0m               \u001b[0mcallbacks\u001b[0m\u001b[0;34m.\u001b[0m\u001b[0mon_train_batch_begin\u001b[0m\u001b[0;34m(\u001b[0m\u001b[0mstep\u001b[0m\u001b[0;34m)\u001b[0m\u001b[0;34m\u001b[0m\u001b[0;34m\u001b[0m\u001b[0m\n\u001b[0;32m-> 1184\u001b[0;31m               \u001b[0mtmp_logs\u001b[0m \u001b[0;34m=\u001b[0m \u001b[0mself\u001b[0m\u001b[0;34m.\u001b[0m\u001b[0mtrain_function\u001b[0m\u001b[0;34m(\u001b[0m\u001b[0miterator\u001b[0m\u001b[0;34m)\u001b[0m\u001b[0;34m\u001b[0m\u001b[0;34m\u001b[0m\u001b[0m\n\u001b[0m\u001b[1;32m   1185\u001b[0m               \u001b[0;32mif\u001b[0m \u001b[0mdata_handler\u001b[0m\u001b[0;34m.\u001b[0m\u001b[0mshould_sync\u001b[0m\u001b[0;34m:\u001b[0m\u001b[0;34m\u001b[0m\u001b[0;34m\u001b[0m\u001b[0m\n\u001b[1;32m   1186\u001b[0m                 \u001b[0mcontext\u001b[0m\u001b[0;34m.\u001b[0m\u001b[0masync_wait\u001b[0m\u001b[0;34m(\u001b[0m\u001b[0;34m)\u001b[0m\u001b[0;34m\u001b[0m\u001b[0;34m\u001b[0m\u001b[0m\n",
      "\u001b[0;32m/nfs/freenas/tuph/e18/project/compass/analysis/saumiller/ecal/python_NNenv/lib64/python3.6/site-packages/tensorflow/python/eager/def_function.py\u001b[0m in \u001b[0;36m__call__\u001b[0;34m(self, *args, **kwds)\u001b[0m\n\u001b[1;32m    883\u001b[0m \u001b[0;34m\u001b[0m\u001b[0m\n\u001b[1;32m    884\u001b[0m       \u001b[0;32mwith\u001b[0m \u001b[0mOptionalXlaContext\u001b[0m\u001b[0;34m(\u001b[0m\u001b[0mself\u001b[0m\u001b[0;34m.\u001b[0m\u001b[0m_jit_compile\u001b[0m\u001b[0;34m)\u001b[0m\u001b[0;34m:\u001b[0m\u001b[0;34m\u001b[0m\u001b[0;34m\u001b[0m\u001b[0m\n\u001b[0;32m--> 885\u001b[0;31m         \u001b[0mresult\u001b[0m \u001b[0;34m=\u001b[0m \u001b[0mself\u001b[0m\u001b[0;34m.\u001b[0m\u001b[0m_call\u001b[0m\u001b[0;34m(\u001b[0m\u001b[0;34m*\u001b[0m\u001b[0margs\u001b[0m\u001b[0;34m,\u001b[0m \u001b[0;34m**\u001b[0m\u001b[0mkwds\u001b[0m\u001b[0;34m)\u001b[0m\u001b[0;34m\u001b[0m\u001b[0;34m\u001b[0m\u001b[0m\n\u001b[0m\u001b[1;32m    886\u001b[0m \u001b[0;34m\u001b[0m\u001b[0m\n\u001b[1;32m    887\u001b[0m       \u001b[0mnew_tracing_count\u001b[0m \u001b[0;34m=\u001b[0m \u001b[0mself\u001b[0m\u001b[0;34m.\u001b[0m\u001b[0mexperimental_get_tracing_count\u001b[0m\u001b[0;34m(\u001b[0m\u001b[0;34m)\u001b[0m\u001b[0;34m\u001b[0m\u001b[0;34m\u001b[0m\u001b[0m\n",
      "\u001b[0;32m/nfs/freenas/tuph/e18/project/compass/analysis/saumiller/ecal/python_NNenv/lib64/python3.6/site-packages/tensorflow/python/eager/def_function.py\u001b[0m in \u001b[0;36m_call\u001b[0;34m(self, *args, **kwds)\u001b[0m\n\u001b[1;32m    915\u001b[0m       \u001b[0;31m# In this case we have created variables on the first call, so we run the\u001b[0m\u001b[0;34m\u001b[0m\u001b[0;34m\u001b[0m\u001b[0;34m\u001b[0m\u001b[0m\n\u001b[1;32m    916\u001b[0m       \u001b[0;31m# defunned version which is guaranteed to never create variables.\u001b[0m\u001b[0;34m\u001b[0m\u001b[0;34m\u001b[0m\u001b[0;34m\u001b[0m\u001b[0m\n\u001b[0;32m--> 917\u001b[0;31m       \u001b[0;32mreturn\u001b[0m \u001b[0mself\u001b[0m\u001b[0;34m.\u001b[0m\u001b[0m_stateless_fn\u001b[0m\u001b[0;34m(\u001b[0m\u001b[0;34m*\u001b[0m\u001b[0margs\u001b[0m\u001b[0;34m,\u001b[0m \u001b[0;34m**\u001b[0m\u001b[0mkwds\u001b[0m\u001b[0;34m)\u001b[0m  \u001b[0;31m# pylint: disable=not-callable\u001b[0m\u001b[0;34m\u001b[0m\u001b[0;34m\u001b[0m\u001b[0m\n\u001b[0m\u001b[1;32m    918\u001b[0m     \u001b[0;32melif\u001b[0m \u001b[0mself\u001b[0m\u001b[0;34m.\u001b[0m\u001b[0m_stateful_fn\u001b[0m \u001b[0;32mis\u001b[0m \u001b[0;32mnot\u001b[0m \u001b[0;32mNone\u001b[0m\u001b[0;34m:\u001b[0m\u001b[0;34m\u001b[0m\u001b[0;34m\u001b[0m\u001b[0m\n\u001b[1;32m    919\u001b[0m       \u001b[0;31m# Release the lock early so that multiple threads can perform the call\u001b[0m\u001b[0;34m\u001b[0m\u001b[0;34m\u001b[0m\u001b[0;34m\u001b[0m\u001b[0m\n",
      "\u001b[0;32m/nfs/freenas/tuph/e18/project/compass/analysis/saumiller/ecal/python_NNenv/lib64/python3.6/site-packages/tensorflow/python/eager/function.py\u001b[0m in \u001b[0;36m__call__\u001b[0;34m(self, *args, **kwargs)\u001b[0m\n\u001b[1;32m   3036\u001b[0m     \u001b[0;32mwith\u001b[0m \u001b[0mself\u001b[0m\u001b[0;34m.\u001b[0m\u001b[0m_lock\u001b[0m\u001b[0;34m:\u001b[0m\u001b[0;34m\u001b[0m\u001b[0;34m\u001b[0m\u001b[0m\n\u001b[1;32m   3037\u001b[0m       (graph_function,\n\u001b[0;32m-> 3038\u001b[0;31m        filtered_flat_args) = self._maybe_define_function(args, kwargs)\n\u001b[0m\u001b[1;32m   3039\u001b[0m     return graph_function._call_flat(\n\u001b[1;32m   3040\u001b[0m         filtered_flat_args, captured_inputs=graph_function.captured_inputs)  # pylint: disable=protected-access\n",
      "\u001b[0;32m/nfs/freenas/tuph/e18/project/compass/analysis/saumiller/ecal/python_NNenv/lib64/python3.6/site-packages/tensorflow/python/eager/function.py\u001b[0m in \u001b[0;36m_maybe_define_function\u001b[0;34m(self, args, kwargs)\u001b[0m\n\u001b[1;32m   3418\u001b[0m       \u001b[0mflat_args\u001b[0m\u001b[0;34m,\u001b[0m \u001b[0mfiltered_flat_args\u001b[0m \u001b[0;34m=\u001b[0m \u001b[0;34m[\u001b[0m\u001b[0;32mNone\u001b[0m\u001b[0;34m]\u001b[0m\u001b[0;34m,\u001b[0m \u001b[0;34m[\u001b[0m\u001b[0;34m]\u001b[0m\u001b[0;34m\u001b[0m\u001b[0;34m\u001b[0m\u001b[0m\n\u001b[1;32m   3419\u001b[0m \u001b[0;34m\u001b[0m\u001b[0m\n\u001b[0;32m-> 3420\u001b[0;31m     \u001b[0mcache_key_context\u001b[0m \u001b[0;34m=\u001b[0m \u001b[0mself\u001b[0m\u001b[0;34m.\u001b[0m\u001b[0m_cache_key_context\u001b[0m\u001b[0;34m(\u001b[0m\u001b[0;34m)\u001b[0m\u001b[0;34m\u001b[0m\u001b[0;34m\u001b[0m\u001b[0m\n\u001b[0m\u001b[1;32m   3421\u001b[0m     \u001b[0mcache_key\u001b[0m \u001b[0;34m=\u001b[0m \u001b[0mself\u001b[0m\u001b[0;34m.\u001b[0m\u001b[0m_cache_key\u001b[0m\u001b[0;34m(\u001b[0m\u001b[0margs\u001b[0m\u001b[0;34m,\u001b[0m \u001b[0mkwargs\u001b[0m\u001b[0;34m,\u001b[0m \u001b[0mcache_key_context\u001b[0m\u001b[0;34m)\u001b[0m\u001b[0;34m\u001b[0m\u001b[0;34m\u001b[0m\u001b[0m\n\u001b[1;32m   3422\u001b[0m \u001b[0;34m\u001b[0m\u001b[0m\n",
      "\u001b[0;32m/nfs/freenas/tuph/e18/project/compass/analysis/saumiller/ecal/python_NNenv/lib64/python3.6/site-packages/tensorflow/python/eager/function.py\u001b[0m in \u001b[0;36m_cache_key_context\u001b[0;34m(self)\u001b[0m\n\u001b[1;32m   3241\u001b[0m     \u001b[0;31m# building (e.g. accessing different variables from different devices) and\u001b[0m\u001b[0;34m\u001b[0m\u001b[0;34m\u001b[0m\u001b[0;34m\u001b[0m\u001b[0m\n\u001b[1;32m   3242\u001b[0m     \u001b[0;31m# so requires retracing for each device.\u001b[0m\u001b[0;34m\u001b[0m\u001b[0;34m\u001b[0m\u001b[0;34m\u001b[0m\u001b[0m\n\u001b[0;32m-> 3243\u001b[0;31m     \u001b[0mstrategy_stack\u001b[0m \u001b[0;34m=\u001b[0m \u001b[0mdefault_graph\u001b[0m\u001b[0;34m.\u001b[0m\u001b[0m_distribution_strategy_stack\u001b[0m\u001b[0;34m\u001b[0m\u001b[0;34m\u001b[0m\u001b[0m\n\u001b[0m\u001b[1;32m   3244\u001b[0m     uses_distribution_strategy = (\n\u001b[1;32m   3245\u001b[0m         \u001b[0mstrategy_stack\u001b[0m \u001b[0;32mand\u001b[0m\u001b[0;34m\u001b[0m\u001b[0;34m\u001b[0m\u001b[0m\n",
      "\u001b[0;31mKeyboardInterrupt\u001b[0m: "
     ]
    }
   ],
   "source": [
    "a = time.time()\n",
    "fit_hist1 = model5.fit(clusters_t, training, batch_size=64, epochs=180, validation_split=0.1)\n",
    "b = time.time()\n",
    "\n",
    "print(\"This took \", (b-a)/60, \"min\")"
   ]
  },
  {
   "cell_type": "code",
   "execution_count": 20,
   "id": "bd0b179a",
   "metadata": {},
   "outputs": [
    {
     "ename": "NameError",
     "evalue": "name 'fit_hist1' is not defined",
     "output_type": "error",
     "traceback": [
      "\u001b[0;31m---------------------------------------------------------------------------\u001b[0m",
      "\u001b[0;31mNameError\u001b[0m                                 Traceback (most recent call last)",
      "\u001b[0;32m<ipython-input-20-4e035110bcbb>\u001b[0m in \u001b[0;36m<module>\u001b[0;34m\u001b[0m\n\u001b[1;32m      1\u001b[0m \u001b[0mplt\u001b[0m\u001b[0;34m.\u001b[0m\u001b[0mrcParams\u001b[0m\u001b[0;34m[\u001b[0m\u001b[0;34m\"figure.figsize\"\u001b[0m\u001b[0;34m]\u001b[0m \u001b[0;34m=\u001b[0m \u001b[0;34m(\u001b[0m\u001b[0;36m10\u001b[0m\u001b[0;34m,\u001b[0m\u001b[0;36m6\u001b[0m\u001b[0;34m)\u001b[0m\u001b[0;34m\u001b[0m\u001b[0;34m\u001b[0m\u001b[0m\n\u001b[0;32m----> 2\u001b[0;31m \u001b[0mmf\u001b[0m\u001b[0;34m.\u001b[0m\u001b[0mtraining_vs_validation_loss\u001b[0m\u001b[0;34m(\u001b[0m\u001b[0mfit_hist1\u001b[0m\u001b[0;34m)\u001b[0m\u001b[0;34m\u001b[0m\u001b[0;34m\u001b[0m\u001b[0m\n\u001b[0m",
      "\u001b[0;31mNameError\u001b[0m: name 'fit_hist1' is not defined"
     ]
    }
   ],
   "source": [
    "plt.rcParams[\"figure.figsize\"] = (10,6)\n",
    "mf.training_vs_validation_loss(fit_hist1)"
   ]
  },
  {
   "cell_type": "code",
   "execution_count": null,
   "id": "74e1f620",
   "metadata": {},
   "outputs": [],
   "source": [
    "output = model1.predict(clusters_v)"
   ]
  },
  {
   "cell_type": "code",
   "execution_count": null,
   "id": "ef825d50",
   "metadata": {},
   "outputs": [],
   "source": [
    "mf.histo_output(output.T[0], veri_fit_data.T[0], veri_truth_data.T[0], name=\"x\")"
   ]
  },
  {
   "cell_type": "code",
   "execution_count": null,
   "id": "903fd264",
   "metadata": {},
   "outputs": [],
   "source": [
    "mf.histo_output(output.T[1], veri_fit_data.T[1], veri_truth_data.T[1], name=\"y\")"
   ]
  },
  {
   "cell_type": "code",
   "execution_count": null,
   "id": "eeb331af",
   "metadata": {},
   "outputs": [],
   "source": [
    "\n",
    "def gaus(x, mu, sigma, A):\n",
    "    return (A/np.sqrt(2*np.pi * sigma**2))* np.exp(-(x-mu)**2 / (2*sigma**2))\n",
    "\n",
    "def histo_output_rel(arr_NN, arr_fit, arr_truth, name='', figsave=False, range_x = (-1,1), bins=300, fit=True):\n",
    "    '''takes output of neural network (either x,y OR E), the fit values (either x,y, OR E) and the true values of e,y or E. \n",
    "    Define with name which parameter (x,y,E) you gave as input'''\n",
    "    \n",
    "    plt.rcParams[\"figure.figsize\"] = (10,6)\n",
    "    plt.subplot(2,1,1)\n",
    "    n_counts, bins, patches = plt.hist((arr_NN-arr_truth)/arr_truth, bins=bins, range=range_x)\n",
    "    # fit\n",
    "    if fit==True:\n",
    "        maxv = n_counts.max()\n",
    "        ind_fit = np.where(n_counts > 0.3*maxv)\n",
    "        liml = ind_fit[0].min()\n",
    "        limu = ind_fit[0].max() + 1\n",
    "\n",
    "        x_centers = 0.5*(bins[:-1]+bins[1:])\n",
    "        popt1, pcov1 = curve_fit(gaus, x_centers[liml:limu], n_counts[liml:limu], p0=[0,1, 100], sigma=1/np.sqrt(n_counts)[liml:limu], maxfev=10000)\n",
    "        perr1 = np.sqrt(np.diag(pcov1))\n",
    "        x_fit = np.linspace(x_centers[liml:limu][0], x_centers[liml:limu][-1], 500)\n",
    "        y_fit = gaus(x_fit, *popt1)\n",
    "        plt.plot(x_fit, y_fit, 'r--', label=\"Gaussian fit with \" + r\"$\\mu = ({:.3f} \\pm {:.3f})$\".format(popt1[0], perr1[0]) + \", \" + r\"$\\sigma = ({:.3f} \\pm {:.3f})$\".format(popt1[1], perr1[1]))\n",
    "        plt.legend()\n",
    "        plt.xlabel(\"relative difference of true and predicted value of \" + name)\n",
    "        plt.ylabel(\"counts\")\n",
    "        \n",
    "        # which values does NN not learn correctly (energy)?\n",
    "        ind_bad = np.where(abs((arr_NN-arr_truth)/arr_truth) > popt1[1]) # all events further away than 1 sigma\n",
    "        values_bad = arr_NN[ind_bad]\n",
    "    \n",
    "    plt.subplot(2,1,2)\n",
    "    n_counts, bins, patches = plt.hist((arr_fit-arr_truth)/arr_truth, bins=bins, range=range_x)\n",
    "\n",
    "    \n",
    "    if fit==True:\n",
    "        # fit\n",
    "        maxv = n_counts.max()\n",
    "        ind_fit = np.where(n_counts > 0.3*maxv)\n",
    "        liml = ind_fit[0].min()\n",
    "        limu = ind_fit[0].max() + 1\n",
    "\n",
    "        x_centers = 0.5*(bins[:-1]+bins[1:])\n",
    "        popt2, pcov2 = curve_fit(gaus, x_centers[liml:limu], n_counts[liml:limu], p0=[0,1, 100], sigma=1/np.sqrt(n_counts)[liml:limu], maxfev=10000)\n",
    "        perr2 = np.sqrt(np.diag(pcov2))\n",
    "        x_fit = np.linspace(x_centers[liml:limu][0], x_centers[liml:limu][-1], 500)\n",
    "        y_fit = gaus(x_fit, *popt2)\n",
    "        plt.plot(x_fit, y_fit, 'r--', label=\"Gaussian fit with \" + r\"$\\mu = ({:.3f} \\pm {:.3f})$\".format(popt2[0], perr2[0]) + \", \" + r\"$\\sigma = ({:.3f} \\pm {:.3f})$\".format(popt2[1], perr2[1]))\n",
    "        plt.legend()\n",
    "        plt.xlabel(\"relative difference of true and coral fit value of \" + name)\n",
    "        plt.ylabel(\"counts\")\n",
    "    \n",
    "    plt.tight_layout()\n",
    "    if figsave == True:\n",
    "        plt.savefig(name+\"_histo.pdf\")\n",
    "    plt.show()\n",
    "    \n",
    "    if fit==True:\n",
    "        #return popt1, perr1, popt2, perr2 \n",
    "        return values_bad"
   ]
  },
  {
   "cell_type": "code",
   "execution_count": null,
   "id": "22c70179",
   "metadata": {},
   "outputs": [],
   "source": [
    "E_bad = histo_output_rel(output.T[2], veri_fit_data.T[2], veri_truth_data.T[2], name=\"E\", range_x=(-0.25,0.25), fit=True)"
   ]
  },
  {
   "cell_type": "code",
   "execution_count": null,
   "id": "a74705be",
   "metadata": {},
   "outputs": [],
   "source": [
    "plt.hist(E_bad, bins=50)\n",
    "plt.title(\"Energies that are more than one $\\sigma$ away from true value\")\n",
    "print(E_bad.shape, output.T[2].shape)"
   ]
  },
  {
   "cell_type": "code",
   "execution_count": null,
   "id": "3aa82dc9",
   "metadata": {},
   "outputs": [],
   "source": []
  }
 ],
 "metadata": {
  "kernelspec": {
   "display_name": "Python 3",
   "language": "python",
   "name": "python3"
  },
  "language_info": {
   "codemirror_mode": {
    "name": "ipython",
    "version": 3
   },
   "file_extension": ".py",
   "mimetype": "text/x-python",
   "name": "python",
   "nbconvert_exporter": "python",
   "pygments_lexer": "ipython3",
   "version": "3.6.8"
  }
 },
 "nbformat": 4,
 "nbformat_minor": 5
}
