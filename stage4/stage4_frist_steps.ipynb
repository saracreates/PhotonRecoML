{
 "cells": [
  {
   "cell_type": "markdown",
   "id": "bc873ffe",
   "metadata": {},
   "source": [
    "<h1> Overlapping Photons </h1>\n",
    "Date: 23rd March 2023\n",
    "\n",
    "Now let's investigate overlapping photons. First I need to do some event selection and prep the data."
   ]
  },
  {
   "cell_type": "code",
   "execution_count": 1,
   "id": "dfbff155",
   "metadata": {},
   "outputs": [],
   "source": [
    "# own skrips\n",
    "import myfunctions as mf\n",
    "#import helperfile as hf\n",
    "# generalls libraries\n",
    "import tensorflow as tf\n",
    "from tensorflow import keras\n",
    "from tensorflow.keras import layers\n",
    "import numpy as np\n",
    "import matplotlib.pyplot as plt\n",
    "import uproot\n",
    "from tensorflow.keras.optimizers import Adam\n",
    "import time\n",
    "from scipy.optimize import curve_fit"
   ]
  },
  {
   "cell_type": "code",
   "execution_count": 2,
   "id": "a55d50e7",
   "metadata": {},
   "outputs": [],
   "source": [
    "from matplotlib.colors import LogNorm\n",
    "from scipy import ndimage"
   ]
  },
  {
   "cell_type": "markdown",
   "id": "dbc38f4f",
   "metadata": {},
   "source": [
    "As I need to try out some stuff, working with classes is not handy, as I need to load the data everytime again, so work with functions only first."
   ]
  },
  {
   "cell_type": "code",
   "execution_count": 3,
   "id": "f40f2198",
   "metadata": {},
   "outputs": [],
   "source": [
    "# load data\n",
    "rootfile = uproot.open(\"./stage4_clusters.root\")\n",
    "event = rootfile[\"user202302;1\"]\n",
    "xMC = event[\"x_MC\"].array(library=\"np\") #[:40000]\n",
    "yMC = event[\"y_MC\"].array(library=\"np\") #[:40000]\n",
    "EMC = event[\"E_MC\"].array(library=\"np\") #[:40000]\n",
    "x_truth = event[\"x_truth\"].array(library=\"np\") #[:40000]\n",
    "y_truth = event[\"y_truth\"].array(library=\"np\") #[:40000]\n",
    "E_truth = event[\"E_truth\"].array(library=\"np\") #[:40000]\n",
    "x_fit = event[\"x_fit\"].array(library=\"np\") #[:40000]\n",
    "y_fit = event[\"y_fit\"].array(library=\"np\") #[:40000]\n",
    "E_fit = event[\"E_fit\"].array(library=\"np\") #[:40000]"
   ]
  },
  {
   "cell_type": "code",
   "execution_count": 4,
   "id": "805f6ab5",
   "metadata": {},
   "outputs": [
    {
     "name": "stdout",
     "output_type": "stream",
     "text": [
      "This took  141.64326357841492 s\n",
      "cut  146237  clusters\n"
     ]
    }
   ],
   "source": [
    "clustersNxN, coord, ind_del = mf.form_cluster(xMC, yMC, EMC, clustershape=(5,5))\n",
    "print(\"cut \", len(ind_del), \" clusters\")"
   ]
  },
  {
   "cell_type": "code",
   "execution_count": 5,
   "id": "709c9c55",
   "metadata": {},
   "outputs": [
    {
     "name": "stdout",
     "output_type": "stream",
     "text": [
      "This took  146.82255172729492 s\n",
      "cut  48408  clusters\n"
     ]
    }
   ],
   "source": [
    "clustersNxN_2, coord_2, ind_del_2 = mf.form_cluster(xMC, yMC, EMC, clustershape=(6,6))\n",
    "print(\"cut \", len(ind_del_2), \" clusters\")"
   ]
  },
  {
   "cell_type": "code",
   "execution_count": 6,
   "id": "c20c0fd2",
   "metadata": {},
   "outputs": [
    {
     "name": "stdout",
     "output_type": "stream",
     "text": [
      "This took  148.04006791114807 s\n",
      "cut  6616  clusters\n"
     ]
    }
   ],
   "source": [
    "clustersNxN_3, coord_3, ind_del_3 = mf.form_cluster(xMC, yMC, EMC, clustershape=(7,7))\n",
    "print(\"cut \", len(ind_del_3), \" clusters\")"
   ]
  },
  {
   "cell_type": "code",
   "execution_count": 7,
   "id": "b9aaf1e7",
   "metadata": {},
   "outputs": [
    {
     "name": "stdout",
     "output_type": "stream",
     "text": [
      "This took  148.76361179351807 s\n",
      "cut  105  clusters\n"
     ]
    }
   ],
   "source": [
    "clustersNxN_4, coord_4, ind_del_4 = mf.form_cluster(xMC, yMC, EMC, clustershape=(8,8))\n",
    "print(\"cut \", len(ind_del_4), \" clusters\")"
   ]
  },
  {
   "cell_type": "markdown",
   "id": "53bafdfd",
   "metadata": {},
   "source": [
    "So a (8,8) grid is beneficial!"
   ]
  },
  {
   "cell_type": "markdown",
   "id": "90d338c2",
   "metadata": {},
   "source": [
    "But the problem is that I also need to check if the clusters overlapp... overwise this would not be an extra case!\n",
    "\n",
    "**Update:** Well, they are close enough to not differ between the cases in a 7x7 grid."
   ]
  },
  {
   "cell_type": "code",
   "execution_count": 8,
   "id": "0b4ad624",
   "metadata": {},
   "outputs": [],
   "source": [
    "def fill_zeros_random(cluster, ex, ey, cshape):\n",
    "    '''make clusters to random NxN shape with zeros'''\n",
    "    # csys = array with [x, y] at lower left corner, exactly in the center of the ecal cell!\n",
    "    csys = np.array([ex[0], ey[0]])\n",
    "    # cover case if only one cell in one dimension... np.histogram2D used +/- 0.5 for the binning then\n",
    "    if len(ex) == 2:\n",
    "        csys[0] = ex[0]+0.5\n",
    "    if len(ey) == 2:\n",
    "        csys[1] == ey[0] + 0.5\n",
    "    \n",
    "    cellsize = 3.83\n",
    "    # cut clusters that are bigger than cshape! -> use bool return variable\n",
    "    ret = True\n",
    "    if(cluster.shape[0]>cshape[0] or cluster.shape[1]>cshape[1]):\n",
    "        #print(\"Clusters are bigger than 5 celles: \", cluster.shape[0], cluster.shape[1])\n",
    "        ret = False\n",
    "        cluster_new = cluster\n",
    "    else:\n",
    "        dely = cshape[0] - cluster.shape[0]\n",
    "        delx = cshape[1] - cluster.shape[1]\n",
    "        # randomly choose how much upper left corner of cluster should be moved in NxN zero cluster \n",
    "        x = int(np.random.choice(np.arange(0, delx+1), 1))\n",
    "        y = int(np.random.choice(np.arange(0, dely+1), 1))\n",
    "        cluster_new = np.zeros(cshape[0]*cshape[1]).reshape(cshape) # create empty/zero cluster\n",
    "        cluster_new[y:(cluster.shape[0]+y), x:(cluster.shape[1]+x)] = cluster # insert ecal cluster into the zero cluster\n",
    "        # new coordinate system\n",
    "        csys[0] = csys[0] - x*cellsize\n",
    "        csys[1] = csys[1] - (cshape[0] - cluster.shape[0] - y)*cellsize # as one also needs to shift from upper left to lower left corner\n",
    "       \n",
    "    return cluster_new, csys, ret"
   ]
  },
  {
   "cell_type": "code",
   "execution_count": 9,
   "id": "f2115693",
   "metadata": {},
   "outputs": [],
   "source": [
    "def is_connected(matrix): # FUNKTIONIERT NICHT\n",
    "    # https://docs.scipy.org/doc/scipy/reference/generated/scipy.ndimage.find_objects.html#scipy.ndimage.find_objects \n",
    "\n",
    "    # find connected components in the matrix\n",
    "\n",
    "    labeled_array, num_features = ndimage.label(matrix)\n",
    "    struct = ndimage.generate_binary_structure(2,2)\n",
    "\n",
    "    # dilate the labeled array with the kernel\n",
    "\n",
    "    dilated = ndimage.binary_dilation(labeled_array.astype(bool), structure=struct).astype(np.uint8)\n",
    "\n",
    "    # check if there is only one non-zero feature\n",
    "\n",
    "    if num_features != 1: \n",
    "        return True\n",
    "    return len(np.unique(dilated)) == 2"
   ]
  },
  {
   "cell_type": "code",
   "execution_count": 10,
   "id": "382bb071",
   "metadata": {},
   "outputs": [],
   "source": [
    "def check_overlapp(cluster, ex, ey):\n",
    "    yes = True\n",
    "    '''\n",
    "    if is_connected(cluster) == False:\n",
    "        plt.imshow(cluster, norm=LogNorm())\n",
    "        plt.colorbar()\n",
    "        plt.show()\n",
    "        print(\"Zellen in x: \", len(ex)-1)\n",
    "        print(\"Zellen in y: \", len(ey)-1)\n",
    "        print(\"ChatGPT: \", is_connected(cluster))\n",
    "    '''\n",
    "    return yes"
   ]
  },
  {
   "cell_type": "code",
   "execution_count": 11,
   "id": "c971300b",
   "metadata": {},
   "outputs": [],
   "source": [
    "def form_cluster(xMC, yMC, EMC, clustershape=(5,5)):\n",
    "    '''make nxn shape from phast data - return cluster, coordinate points and edges of histogram'''\n",
    "    t1 = time.time()\n",
    "    arr_cluster = np.zeros((len(xMC), clustershape[0], clustershape[1])) # space holder of clusters \n",
    "    c_sys = np.zeros((len(xMC), 2)) # space holder for coordinate system\n",
    "    ind_i = [] # add all indecies of not used clusters\n",
    "    num_notoverlapp = 0\n",
    "    for i in range(len(xMC)):\n",
    "        x = xMC[i]\n",
    "        y = yMC[i]\n",
    "        E = EMC[i]\n",
    "        cellsize = 3.83\n",
    "        binx = round((x.max() - x.min())/ cellsize) +1\n",
    "        biny = round((y.max() - y.min()) / cellsize) +1\n",
    "        histo, ex, ey = np.histogram2d(x, y, bins=[binx,biny], weights=E, density=False)\n",
    "        cluster = np.flip(histo.T, axis=0) # make shape more intuitive - looks like scattered x,y now when array is printed!\n",
    "        # hier ueberpruefen ob sie cluster ueberlappen!\n",
    "        overlapp = check_overlapp(cluster, ex, ey)\n",
    "        cluster, csys, ret = fill_zeros_random(cluster, ex, ey, clustershape) # bring into right clustershape\n",
    "        if ret == True and overlapp == True:\n",
    "            arr_cluster[i] = cluster\n",
    "            c_sys[i] = csys\n",
    "        else:\n",
    "            ind_i.append(i)\n",
    "            '''\n",
    "            plt.imshow(cluster, norm=LogNorm())\n",
    "            plt.colorbar()\n",
    "            plt.show()\n",
    "            '''\n",
    "            if overlapp == False:\n",
    "                num_overlapp = num_notoverlapp + 1\n",
    "    t2 = time.time()\n",
    "    print(\"This took \", t2-t1, \"s\")\n",
    "    print(len(ind_i), \" clusters need to be cut\")\n",
    "    print(num_notoverlapp, \" clusters didn't overlapp\")\n",
    "    return arr_cluster, c_sys, np.array(ind_i)"
   ]
  },
  {
   "cell_type": "code",
   "execution_count": 12,
   "id": "94d3088c",
   "metadata": {},
   "outputs": [
    {
     "name": "stdout",
     "output_type": "stream",
     "text": [
      "This took  0.25081920623779297 s\n",
      "15  clusters need to be cut\n",
      "0  clusters didn't overlapp\n"
     ]
    }
   ],
   "source": [
    "num = 0\n",
    "end = 1000\n",
    "cluster, csys, ind_i = form_cluster(xMC[num:end], yMC[num:end], EMC[num:end], clustershape=(7,7))"
   ]
  },
  {
   "cell_type": "markdown",
   "id": "0f40167e",
   "metadata": {},
   "source": [
    "Ok let's work on an other problem first!"
   ]
  },
  {
   "cell_type": "code",
   "execution_count": 13,
   "id": "645d84c9",
   "metadata": {},
   "outputs": [],
   "source": [
    "def prep_trainingsdata(x_truth, y_truth, E_truth, coordin):\n",
    "    # retruns [x rel 1, y rel 1, E1, x rel 2, y rel 2, E2]\n",
    "    training = np.array([x_truth.T[0]-coordin.T[0], y_truth.T[0]-coordin.T[1], E_truth[0], x_truth.T[1]-coordin.T[0], y_truth.T[1]-coordin.T[1], E_truth[1]]).T\n",
    "    print(\"Prepared 'training' data\")"
   ]
  },
  {
   "cell_type": "markdown",
   "id": "a5aee5f6",
   "metadata": {},
   "source": [
    "Ok all good, now lets deal with the coral data set..."
   ]
  },
  {
   "cell_type": "code",
   "execution_count": 29,
   "id": "7de63e16",
   "metadata": {},
   "outputs": [],
   "source": [
    "import array"
   ]
  },
  {
   "cell_type": "code",
   "execution_count": 56,
   "id": "999eb654",
   "metadata": {},
   "outputs": [],
   "source": [
    "def get_coral2fits(x_fit, y_fit, E_fit, num_fit):\n",
    "    arr = np.ones((len(x_fit), 2))*(-1000)\n",
    "    good_fit = np.where(num_fit==2)\n",
    "    arr[good_fit] = x_fit[good_fit]\n",
    "    return arr"
   ]
  },
  {
   "cell_type": "code",
   "execution_count": 77,
   "id": "0f25cbf3",
   "metadata": {},
   "outputs": [],
   "source": [
    "rootfile = uproot.open(\"./stage4_clusters.root\")\n",
    "event = rootfile[\"user202302;1\"]"
   ]
  },
  {
   "cell_type": "code",
   "execution_count": 78,
   "id": "f2af62cd",
   "metadata": {},
   "outputs": [],
   "source": [
    "num_fit = event[\"num_fit\"].array(library=\"np\") #[:40000]\n",
    "x_fit = event[\"x_fit\"].array(library=\"np\") #[:40000]\n",
    "y_fit = event[\"y_fit\"].array(library=\"np\") #[:40000]\n",
    "E_fit = event[\"E_fit\"].array(library=\"np\") #[:40000]"
   ]
  },
  {
   "cell_type": "code",
   "execution_count": 65,
   "id": "6eb61b8b",
   "metadata": {},
   "outputs": [
    {
     "name": "stdout",
     "output_type": "stream",
     "text": [
      "[array([-5.60155643]) array([-4.41711916,  7.09554801])\n",
      " array([-39.2507458]) ... array([61.35626799, 75.85294157])\n",
      " array([-39.55297433, -46.70291101, -41.37130128])\n",
      " array([-17.48499165, -22.66511402])]\n"
     ]
    }
   ],
   "source": [
    "print(x_fit)"
   ]
  },
  {
   "cell_type": "code",
   "execution_count": 57,
   "id": "ca657f64",
   "metadata": {},
   "outputs": [
    {
     "ename": "ValueError",
     "evalue": "shape mismatch: value array of shape (510755,) could not be broadcast to indexing result of shape (510755,2)",
     "output_type": "error",
     "traceback": [
      "\u001b[0;31m---------------------------------------------------------------------------\u001b[0m",
      "\u001b[0;31mValueError\u001b[0m                                Traceback (most recent call last)",
      "\u001b[0;32m<ipython-input-57-aaffac4bb633>\u001b[0m in \u001b[0;36m<module>\u001b[0;34m\u001b[0m\n\u001b[1;32m      1\u001b[0m \u001b[0msplit\u001b[0m \u001b[0;34m=\u001b[0m \u001b[0;36m0\u001b[0m\u001b[0;34m\u001b[0m\u001b[0;34m\u001b[0m\u001b[0m\n\u001b[0;32m----> 2\u001b[0;31m \u001b[0mx_fit_new\u001b[0m \u001b[0;34m=\u001b[0m \u001b[0mget_coral2fits\u001b[0m\u001b[0;34m(\u001b[0m\u001b[0mx_fit\u001b[0m\u001b[0;34m,\u001b[0m \u001b[0my_fit\u001b[0m\u001b[0;34m,\u001b[0m \u001b[0mE_fit\u001b[0m\u001b[0;34m,\u001b[0m \u001b[0mnum_fit\u001b[0m\u001b[0;34m)\u001b[0m\u001b[0;34m\u001b[0m\u001b[0;34m\u001b[0m\u001b[0m\n\u001b[0m",
      "\u001b[0;32m<ipython-input-56-56e864c0bb09>\u001b[0m in \u001b[0;36mget_coral2fits\u001b[0;34m(x_fit, y_fit, E_fit, num_fit)\u001b[0m\n\u001b[1;32m      2\u001b[0m     \u001b[0marr\u001b[0m \u001b[0;34m=\u001b[0m \u001b[0mnp\u001b[0m\u001b[0;34m.\u001b[0m\u001b[0mones\u001b[0m\u001b[0;34m(\u001b[0m\u001b[0;34m(\u001b[0m\u001b[0mlen\u001b[0m\u001b[0;34m(\u001b[0m\u001b[0mx_fit\u001b[0m\u001b[0;34m)\u001b[0m\u001b[0;34m,\u001b[0m \u001b[0;36m2\u001b[0m\u001b[0;34m)\u001b[0m\u001b[0;34m)\u001b[0m\u001b[0;34m*\u001b[0m\u001b[0;34m(\u001b[0m\u001b[0;34m-\u001b[0m\u001b[0;36m1000\u001b[0m\u001b[0;34m)\u001b[0m\u001b[0;34m\u001b[0m\u001b[0;34m\u001b[0m\u001b[0m\n\u001b[1;32m      3\u001b[0m     \u001b[0mgood_fit\u001b[0m \u001b[0;34m=\u001b[0m \u001b[0mnp\u001b[0m\u001b[0;34m.\u001b[0m\u001b[0mwhere\u001b[0m\u001b[0;34m(\u001b[0m\u001b[0mnum_fit\u001b[0m\u001b[0;34m==\u001b[0m\u001b[0;36m2\u001b[0m\u001b[0;34m)\u001b[0m\u001b[0;34m\u001b[0m\u001b[0;34m\u001b[0m\u001b[0m\n\u001b[0;32m----> 4\u001b[0;31m     \u001b[0marr\u001b[0m\u001b[0;34m[\u001b[0m\u001b[0mgood_fit\u001b[0m\u001b[0;34m]\u001b[0m \u001b[0;34m=\u001b[0m \u001b[0mx_fit\u001b[0m\u001b[0;34m[\u001b[0m\u001b[0mgood_fit\u001b[0m\u001b[0;34m]\u001b[0m\u001b[0;34m\u001b[0m\u001b[0;34m\u001b[0m\u001b[0m\n\u001b[0m\u001b[1;32m      5\u001b[0m     \u001b[0;32mreturn\u001b[0m \u001b[0marr\u001b[0m\u001b[0;34m\u001b[0m\u001b[0;34m\u001b[0m\u001b[0m\n",
      "\u001b[0;31mValueError\u001b[0m: shape mismatch: value array of shape (510755,) could not be broadcast to indexing result of shape (510755,2)"
     ]
    }
   ],
   "source": [
    "split = 0\n",
    "x_fit_new = get_coral2fits(x_fit, y_fit, E_fit, num_fit)"
   ]
  },
  {
   "cell_type": "code",
   "execution_count": 60,
   "id": "79f66635",
   "metadata": {},
   "outputs": [
    {
     "name": "stdout",
     "output_type": "stream",
     "text": [
      "[-1000 array([-4.41711916,  7.09554801]) -1000\n",
      " array([18.97693022, 37.75414665]) -1000\n",
      " array([-159.92214351, -164.98657374]) -1000\n",
      " array([-71.36201857, -52.6358013 ]) array([-71.52123563, -67.22303311])\n",
      " array([-45.5876266 , -44.20102229]) array([-56.8906959 , -48.99968943])\n",
      " array([ 96.60925813, 112.64333482]) array([-60.9923549, -53.421783 ])\n",
      " -1000 array([-35.91299022, -41.4311644 ])\n",
      " array([-80.2785908 , -81.57564891]) array([45.17376927, 36.06048039])\n",
      " array([11.7074311 , 15.80910185]) -1000\n",
      " array([-33.52318898, -50.8271679 ])]\n"
     ]
    }
   ],
   "source": [
    "print(x_fit[:20])"
   ]
  },
  {
   "cell_type": "code",
   "execution_count": 43,
   "id": "0b764c8c",
   "metadata": {},
   "outputs": [],
   "source": [
    "a = np.array([0,1,2,3])"
   ]
  },
  {
   "cell_type": "code",
   "execution_count": 45,
   "id": "71849f4a",
   "metadata": {},
   "outputs": [
    {
     "data": {
      "text/plain": [
       "array([1, 1, 0, 1, 2, 3])"
      ]
     },
     "execution_count": 45,
     "metadata": {},
     "output_type": "execute_result"
    }
   ],
   "source": [
    "np.insert(a, 0, np.array([1,1]))"
   ]
  },
  {
   "cell_type": "code",
   "execution_count": 50,
   "id": "56d96fe4",
   "metadata": {},
   "outputs": [],
   "source": [
    "myarr = np.ones((1000, 2))*(-1000)\n",
    "ind = np.array([2,3,4,5,22,33,45,56,66])"
   ]
  },
  {
   "cell_type": "markdown",
   "id": "8497e2a4",
   "metadata": {},
   "source": [
    "Ok I give in, lets do a for loop"
   ]
  },
  {
   "cell_type": "code",
   "execution_count": 76,
   "id": "f5650d47",
   "metadata": {},
   "outputs": [],
   "source": [
    "def deal_with_coral_fit_format(arr, num_fit):\n",
    "    nice_arr = np.ones((len(arr), 2))*(-1000)\n",
    "    good_ind = np.where(num_fit==2)\n",
    "    for i in good_ind[0]:\n",
    "        nice_arr[i] = arr[i]\n",
    "    return nice_arr"
   ]
  },
  {
   "cell_type": "code",
   "execution_count": 83,
   "id": "af9a34a0",
   "metadata": {},
   "outputs": [
    {
     "name": "stdout",
     "output_type": "stream",
     "text": [
      "True\n"
     ]
    }
   ],
   "source": [
    "new_x  = deal_with_coral_fit_format(x_fit, num_fit)\n",
    "print(np.all(new_x ==x_fit_new))"
   ]
  },
  {
   "cell_type": "code",
   "execution_count": 73,
   "id": "5ca78276",
   "metadata": {},
   "outputs": [],
   "source": [
    "x_fit_new = deal_with_coral_fit_format(x_fit)\n",
    "y_fit_new = deal_with_coral_fit_format(y_fit)\n",
    "E_fit_new = deal_with_coral_fit_format(E_fit)"
   ]
  },
  {
   "cell_type": "code",
   "execution_count": 74,
   "id": "56c179a8",
   "metadata": {},
   "outputs": [
    {
     "name": "stdout",
     "output_type": "stream",
     "text": [
      "[[-1000.         -1000.        ]\n",
      " [   -4.41711916     7.09554801]\n",
      " [-1000.         -1000.        ]\n",
      " [   18.97693022    37.75414665]\n",
      " [-1000.         -1000.        ]\n",
      " [ -159.92214351  -164.98657374]\n",
      " [-1000.         -1000.        ]\n",
      " [  -71.36201857   -52.6358013 ]\n",
      " [  -71.52123563   -67.22303311]\n",
      " [  -45.5876266    -44.20102229]]\n"
     ]
    }
   ],
   "source": [
    "print(x_fit_new[:10])"
   ]
  },
  {
   "cell_type": "code",
   "execution_count": 75,
   "id": "1ebac255",
   "metadata": {},
   "outputs": [
    {
     "name": "stdout",
     "output_type": "stream",
     "text": [
      "[[-1.00000000e+03 -1.00000000e+03]\n",
      " [ 6.48587688e+01  6.71942715e+01]\n",
      " [-1.00000000e+03 -1.00000000e+03]\n",
      " [ 1.58843447e+01  1.62712656e+01]\n",
      " [-1.00000000e+03 -1.00000000e+03]\n",
      " [-4.96006683e+00  1.30293588e+01]\n",
      " [-1.00000000e+03 -1.00000000e+03]\n",
      " [-8.00437274e+00 -6.05039581e+00]\n",
      " [ 7.67974631e-01 -5.34097408e+00]\n",
      " [ 7.03340088e+01  7.91358410e+01]]\n"
     ]
    }
   ],
   "source": [
    "print(y_fit_new[:10])"
   ]
  },
  {
   "cell_type": "code",
   "execution_count": 84,
   "id": "dd835597",
   "metadata": {},
   "outputs": [
    {
     "name": "stdout",
     "output_type": "stream",
     "text": [
      "[[-1000.         -1000.        ]\n",
      " [   82.02410126    40.1187706 ]\n",
      " [-1000.         -1000.        ]\n",
      " [    3.38509297   148.07713318]\n",
      " [-1000.         -1000.        ]\n",
      " [   10.66936779    90.32144928]\n",
      " [-1000.         -1000.        ]\n",
      " [   33.2181282    122.9189682 ]\n",
      " [  145.49751282    11.81332111]\n",
      " [   38.70973969    12.16453457]]\n"
     ]
    }
   ],
   "source": [
    "print(E_fit_new[:10])"
   ]
  },
  {
   "cell_type": "code",
   "execution_count": 85,
   "id": "1438b628",
   "metadata": {},
   "outputs": [
    {
     "name": "stdout",
     "output_type": "stream",
     "text": [
      "(709731, 2)\n"
     ]
    }
   ],
   "source": [
    "print(E_fit_new.shape)"
   ]
  },
  {
   "cell_type": "code",
   "execution_count": 88,
   "id": "ec32033f",
   "metadata": {},
   "outputs": [
    {
     "name": "stdout",
     "output_type": "stream",
     "text": [
      "[array([4.27098142e-02, 1.17207406e+02]) array([77.91576198, 38.54147611])\n",
      " array([126.89557947,  69.4624554 ]) ... array([83.84694766, 25.5193812 ])\n",
      " array([ 2.46579317, 20.17808011]) array([53.91883228, 26.39064237])]\n"
     ]
    }
   ],
   "source": [
    "print(E_truth)"
   ]
  },
  {
   "cell_type": "code",
   "execution_count": 89,
   "id": "a406e00c",
   "metadata": {},
   "outputs": [],
   "source": [
    "E_truth = np.array(event[\"E_truth\"].array()) "
   ]
  },
  {
   "cell_type": "code",
   "execution_count": 90,
   "id": "add0f7d3",
   "metadata": {},
   "outputs": [
    {
     "name": "stdout",
     "output_type": "stream",
     "text": [
      "(709731, 2)\n"
     ]
    }
   ],
   "source": [
    "print(E_truth.shape)"
   ]
  },
  {
   "cell_type": "code",
   "execution_count": null,
   "id": "0ba08835",
   "metadata": {},
   "outputs": [],
   "source": []
  }
 ],
 "metadata": {
  "kernelspec": {
   "display_name": "Python 3",
   "language": "python",
   "name": "python3"
  },
  "language_info": {
   "codemirror_mode": {
    "name": "ipython",
    "version": 3
   },
   "file_extension": ".py",
   "mimetype": "text/x-python",
   "name": "python",
   "nbconvert_exporter": "python",
   "pygments_lexer": "ipython3",
   "version": "3.6.8"
  }
 },
 "nbformat": 4,
 "nbformat_minor": 5
}
