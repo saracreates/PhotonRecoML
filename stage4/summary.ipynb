{
 "cells": [
  {
   "cell_type": "markdown",
   "id": "72466d67",
   "metadata": {},
   "source": [
    "- big network (480 000 parameter) with no dropout, 200 epochs, alpha=e-5. MSE loss function with flip.\n",
    "\n",
    "\n",
    "| | $\\mu$ | $\\sigma$ |\n",
    "| --- | --- | --- |\n",
    "| $x_1$ | $0,095\\pm0,005$ | $-0,998\\pm0,007$ |\n",
    "| $x_2$ | $0,093\\pm0,005$ | $-0,996\\pm0,007$ |\n",
    "| $y_1$ | $0,088\\pm0,004$ | $-0,961\\pm0,006$ |\n",
    "| $y_2$ | $0,086\\pm0,004$ | $-0,969\\pm0,006$ |\n",
    "| $E_1$ | $-0,003\\pm0,000$ | $0,039\\pm0,000$ |\n",
    "| $E_2$ | $-0,003\\pm0,000$ | $0,038\\pm0,000$ |"
   ]
  },
  {
   "cell_type": "markdown",
   "id": "79a6345b",
   "metadata": {},
   "source": [
    "- weighted loss () 200 epochs, alpha=e-5, MSE loss flip with weights (devide through resolution)\n",
    "\n",
    "| | $\\mu$ | $\\sigma$ |\n",
    "| --- | --- | --- |\n",
    "| $x_1$ | $0,019\\pm0,002$ | $-0,556\\pm0,003$ |\n",
    "| $x_2$ | $0,025\\pm0,002$ | $-0,551\\pm0,003$ |\n",
    "| $y_1$ | $-0,074\\pm0,002$ | $-0,541\\pm0,003$ |\n",
    "| $y_2$ | $-0,070\\pm0,002$ | $-0,543\\pm0,003$ |\n",
    "| $E_1$ | $0,004\\pm0,000$ | $0,045\\pm0,000$ |\n",
    "| $E_2$ | $0,003\\pm0,000$ | $0,044\\pm0,000$ |\n"
   ]
  },
  {
   "cell_type": "markdown",
   "id": "6cabfbeb",
   "metadata": {},
   "source": [
    "- weighted loss like above but with total position \n",
    "\n",
    "| | $\\mu$ | $\\sigma$ |\n",
    "| --- | --- | --- |\n",
    "| $x_1$ | $-0,062\\pm0,002$ | $-0,454\\pm0,003$ |\n",
    "| $x_2$ | $-0,059\\pm0,002$ | $-0,457\\pm0,003$ |\n",
    "| $y_1$ | $-0,083\\pm0,002$ | $-0,499\\pm0,003$ |\n",
    "| $y_2$ | $-0,084\\pm0,002$ | $-0,504\\pm0,003$ |\n",
    "| $E_1$ | $0,006\\pm0,000$ | $0,045\\pm0,000$ |\n",
    "| $E_2$ | $0,006\\pm0,000$ | $0,045\\pm0,000$ |"
   ]
  },
  {
   "cell_type": "markdown",
   "id": "ab3797ed",
   "metadata": {},
   "source": [
    "- with one conv2d layer 3x3 kernel (no pooling) (params), 100 epochs\n",
    "\n",
    "| | $\\mu$ | $\\sigma$ |\n",
    "| --- | --- | --- |\n",
    "| $x_1$ | $-0,006\\pm0,002$ | $-0,490\\pm0,002$ |\n",
    "| $x_2$ | $-0,006\\pm0,002$ | $-0,495\\pm0,003$ |\n",
    "| $y_1$ | $-0,039\\pm0,002$ | $-0,425\\pm0,003$ |\n",
    "| $y_2$ | $-0,035\\pm0,002$ | $-0,431\\pm0,003$ |\n",
    "| $E_1$ | $-0,001\\pm0,000$ | $-0,036\\pm0,000$ |\n",
    "| $E_2$ | $-0,001\\pm0,000$ | $-0,037\\pm0,000$ |"
   ]
  },
  {
   "cell_type": "markdown",
   "id": "575a0594",
   "metadata": {},
   "source": [
    "- with 3x3, then maxpool, then 2x2, learning rate $\\alpha = 0.0001$, 150 epochs\n",
    "\n",
    "| | $\\mu$ | $\\sigma$ |\n",
    "| --- | --- | --- |\n",
    "| $x_1$ | $-0,015\\pm0,002$ | $-0,516\\pm0,003$ |\n",
    "| $x_2$ | $-0,012\\pm0,002$ | $-0,517\\pm0,003$ |\n",
    "| $y_1$ | $-0,012\\pm0,002$ | $-0,482\\pm0,003$ |\n",
    "| $y_2$ | $-0,010\\pm0,002$ | $-0,481\\pm0,002$ |\n",
    "| $E_1$ | $0,003\\pm0,000$ | $0,042\\pm0,000$ |\n",
    "| $E_2$ | $0,003\\pm0,000$ | $0,042\\pm0,000$ |"
   ]
  },
  {
   "cell_type": "markdown",
   "id": "126da530",
   "metadata": {},
   "source": [
    "- FCN best network but placing the clusters in the middle (150 epochs):\n",
    "    \n",
    "    | | $\\mu$ | $\\sigma$ |\n",
    "| --- | --- | --- |\n",
    "| $x_1$ | $-0,005\\pm0,001$ | $-0,422\\pm0,002$ |\n",
    "| $x_2$ | $-0,003\\pm0,002$ | $0,423\\pm0,003$ |\n",
    "| $y_1$ | $-0,056\\pm0,002$ | $-0,332\\pm0,002$ |\n",
    "| $y_2$ | $-0,053\\pm0,002$ | $-0,331\\pm0,003$ |\n",
    "| $E_1$ | $-0,001\\pm0,000$ | $-0,035\\pm0,000$ |\n",
    "| $E_2$ | $-0,001\\pm0,000$ | $-0,035\\pm0,000$ |\n"
   ]
  },
  {
   "cell_type": "code",
   "execution_count": null,
   "id": "8b92e426",
   "metadata": {},
   "outputs": [],
   "source": []
  }
 ],
 "metadata": {
  "kernelspec": {
   "display_name": "Python 3",
   "language": "python",
   "name": "python3"
  },
  "language_info": {
   "codemirror_mode": {
    "name": "ipython",
    "version": 3
   },
   "file_extension": ".py",
   "mimetype": "text/x-python",
   "name": "python",
   "nbconvert_exporter": "python",
   "pygments_lexer": "ipython3",
   "version": "3.6.8"
  }
 },
 "nbformat": 4,
 "nbformat_minor": 5
}
