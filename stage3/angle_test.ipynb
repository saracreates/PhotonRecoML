{
 "cells": [
  {
   "cell_type": "code",
   "execution_count": 1,
   "id": "bd802d23",
   "metadata": {},
   "outputs": [],
   "source": [
    "import myfunctions as mf\n",
    "import tensorflow as tf\n",
    "from tensorflow import keras\n",
    "from tensorflow.keras import layers\n",
    "import numpy as np\n",
    "import matplotlib.pyplot as plt\n",
    "import uproot\n",
    "from tensorflow.keras.optimizers import Adam\n",
    "import time"
   ]
  },
  {
   "cell_type": "markdown",
   "id": "683b9471",
   "metadata": {},
   "source": [
    "<h1> Dealing with angles </h1>\n",
    "\n",
    "First let's check if COMGEANT implements angles in its simulation."
   ]
  },
  {
   "cell_type": "code",
   "execution_count": 2,
   "id": "b7a4f12e",
   "metadata": {},
   "outputs": [],
   "source": [
    "# load data\n",
    "rootfile = uproot.open(\"./angles_test.root\")\n",
    "event = rootfile[\"user202302;1\"]\n",
    "xMC = event[\"x_MC\"].array(library=\"np\") #[:40000]\n",
    "yMC = event[\"y_MC\"].array(library=\"np\") #[:40000]\n",
    "EMC = event[\"E_MC\"].array(library=\"np\") #[:40000]\n",
    "x_truth = event[\"x_truth\"].array(library=\"np\") #[:40000]\n",
    "y_truth = event[\"y_truth\"].array(library=\"np\") #[:40000]\n",
    "E_truth = event[\"E_truth\"].array(library=\"np\") #[:40000]\n",
    "x_fit = event[\"x_fit\"].array(library=\"np\") #[:40000]\n",
    "y_fit = event[\"y_fit\"].array(library=\"np\") #[:40000]\n",
    "E_fit = event[\"E_fit\"].array(library=\"np\") #[:40000]"
   ]
  },
  {
   "cell_type": "code",
   "execution_count": 3,
   "id": "218a3023",
   "metadata": {},
   "outputs": [
    {
     "name": "stdout",
     "output_type": "stream",
     "text": [
      "23\n"
     ]
    }
   ],
   "source": [
    "print(len(E_truth))"
   ]
  },
  {
   "cell_type": "code",
   "execution_count": 4,
   "id": "be05adbb",
   "metadata": {},
   "outputs": [
    {
     "name": "stdout",
     "output_type": "stream",
     "text": [
      "This took  0.005976438522338867 s\n"
     ]
    }
   ],
   "source": [
    "clustersNxN, coord, ind_del = mf.form_cluster(xMC, yMC, EMC, clustershape=(8,8))"
   ]
  },
  {
   "cell_type": "code",
   "execution_count": 5,
   "id": "eb8daea6",
   "metadata": {},
   "outputs": [
    {
     "data": {
      "text/plain": [
       "<matplotlib.image.AxesImage at 0x7f9ddf4d1a20>"
      ]
     },
     "execution_count": 5,
     "metadata": {},
     "output_type": "execute_result"
    },
    {
     "data": {
      "image/png": "[encoded data removed]",
      "text/plain": [
       "<Figure size 720x720 with 1 Axes>"
      ]
     },
     "metadata": {
      "needs_background": "light"
     },
     "output_type": "display_data"
    }
   ],
   "source": [
    "plt.rcParams[\"figure.figsize\"] = (10,10)\n",
    "plt.imshow(clustersNxN[6])"
   ]
  },
  {
   "cell_type": "markdown",
   "id": "6bb7a089",
   "metadata": {},
   "source": [
    "-> Yeay!! :-)"
   ]
  },
  {
   "cell_type": "code",
   "execution_count": null,
   "id": "00663a57",
   "metadata": {},
   "outputs": [],
   "source": []
  }
 ],
 "metadata": {
  "kernelspec": {
   "display_name": "Python 3",
   "language": "python",
   "name": "python3"
  },
  "language_info": {
   "codemirror_mode": {
    "name": "ipython",
    "version": 3
   },
   "file_extension": ".py",
   "mimetype": "text/x-python",
   "name": "python",
   "nbconvert_exporter": "python",
   "pygments_lexer": "ipython3",
   "version": "3.6.8"
  }
 },
 "nbformat": 4,
 "nbformat_minor": 5
}
