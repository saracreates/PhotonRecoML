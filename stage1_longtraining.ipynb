{
 "cells": [
  {
   "cell_type": "markdown",
   "id": "0f336ffb",
   "metadata": {},
   "source": [
    "<h1> Big network </h1> \n",
    "Date: 16/2/2023\n",
    "$\\newline$\n",
    "\n",
    "Is bigger really better? \n",
    "Let's try the simplest neural network with a lot more epochs"
   ]
  },
  {
   "cell_type": "code",
   "execution_count": 9,
   "id": "79636754",
   "metadata": {},
   "outputs": [],
   "source": [
    "import myfunctions as mf\n",
    "from tensorflow import keras\n",
    "from tensorflow.keras import layers\n",
    "import numpy as np\n",
    "import matplotlib.pyplot as plt\n",
    "import uproot\n",
    "from tensorflow.keras.optimizers import Adam\n",
    "from scipy.optimize import curve_fit\n",
    "import time"
   ]
  },
  {
   "cell_type": "code",
   "execution_count": 2,
   "id": "ba2d97a9",
   "metadata": {},
   "outputs": [],
   "source": [
    "# load data\n",
    "rootfile = uproot.open(\"./stage1_clusters_bigdata.root\")\n",
    "event = rootfile[\"user202302;1\"]\n",
    "xMC = event[\"x_MC\"].array(library=\"np\") #[:40000]\n",
    "yMC = event[\"y_MC\"].array(library=\"np\") #[:40000]\n",
    "EMC = event[\"E_MC\"].array(library=\"np\") #[:40000]\n",
    "x_truth = event[\"x_truth\"].array(library=\"np\") #[:40000]\n",
    "y_truth = event[\"y_truth\"].array(library=\"np\") #[:40000]\n",
    "E_truth = event[\"E_truth\"].array(library=\"np\") #[:40000]\n",
    "x_fit = event[\"x_fit\"].array(library=\"np\") #[:40000]\n",
    "y_fit = event[\"y_fit\"].array(library=\"np\") #[:40000]\n",
    "E_fit = event[\"E_fit\"].array(library=\"np\") #[:40000]"
   ]
  },
  {
   "cell_type": "code",
   "execution_count": 3,
   "id": "983f12cc",
   "metadata": {},
   "outputs": [],
   "source": [
    "# cut data into right shape as in \"SimplestNetwork\"\n",
    "\n",
    "xMC_train, xMC_veri, yMC_train, yMC_veri, EMC_train, EMC_veri, x_truth_train, x_truth_veri, y_truth_train, y_truth_veri, E_truth_train, E_truth_veri, x_fit_veri, y_fit_veri, E_fit_veri = mf.training_and_validation_data(xMC, yMC, EMC, x_truth, y_truth, E_truth, x_fit, y_fit, E_fit)"
   ]
  },
  {
   "cell_type": "code",
   "execution_count": 4,
   "id": "d870f001",
   "metadata": {},
   "outputs": [
    {
     "name": "stdout",
     "output_type": "stream",
     "text": [
      "This took  215.76568627357483 s\n"
     ]
    },
    {
     "name": "stderr",
     "output_type": "stream",
     "text": [
      "/nfs/freenas/tuph/e18/project/compass/analysis/saumiller/ecal/stage1/myfunctions.py:69: VisibleDeprecationWarning: Creating an ndarray from ragged nested sequences (which is a list-or-tuple of lists-or-tuples-or ndarrays with different lengths or shapes) is deprecated. If you meant to do this, you must specify 'dtype=object' when creating the ndarray\n",
      "  return arr_cluster, np.array(c_sys), np.array(edge_x), np.array(edge_y)\n"
     ]
    }
   ],
   "source": [
    "# create input data\n",
    "clusters5x5, coord, x_edge, y_edge = mf.form_cluster(xMC_train, yMC_train, EMC_train)"
   ]
  },
  {
   "cell_type": "code",
   "execution_count": 7,
   "id": "d4b4a072",
   "metadata": {},
   "outputs": [],
   "source": [
    "clusters = clusters5x5.reshape((clusters5x5.shape[0], 25))\n",
    "training = mf.prep_trainingsdata(x_truth_train, y_truth_train, E_truth_train, coord)"
   ]
  },
  {
   "cell_type": "code",
   "execution_count": 6,
   "id": "0248f80c",
   "metadata": {},
   "outputs": [
    {
     "name": "stdout",
     "output_type": "stream",
     "text": [
      "Model: \"sequential_1\"\n",
      "_________________________________________________________________\n",
      "Layer (type)                 Output Shape              Param #   \n",
      "=================================================================\n",
      "dense_7 (Dense)              (None, 64)                1664      \n",
      "_________________________________________________________________\n",
      "dense_8 (Dense)              (None, 128)               8320      \n",
      "_________________________________________________________________\n",
      "dense_9 (Dense)              (None, 256)               33024     \n",
      "_________________________________________________________________\n",
      "dense_10 (Dense)             (None, 128)               32896     \n",
      "_________________________________________________________________\n",
      "dense_11 (Dense)             (None, 64)                8256      \n",
      "_________________________________________________________________\n",
      "dense_12 (Dense)             (None, 32)                2080      \n",
      "_________________________________________________________________\n",
      "dense_13 (Dense)             (None, 3)                 99        \n",
      "=================================================================\n",
      "Total params: 86,339\n",
      "Trainable params: 86,339\n",
      "Non-trainable params: 0\n",
      "_________________________________________________________________\n"
     ]
    }
   ],
   "source": [
    "model = keras.Sequential([layers.Input(shape=(25)),\n",
    "                         layers.Dense(64, activation=\"relu\"),\n",
    "                         layers.Dense(128, activation=\"relu\"),\n",
    "                         layers.Dense(256, activation=\"relu\"),\n",
    "                         layers.Dense(128, activation=\"relu\"),\n",
    "                         layers.Dense(64, activation=\"relu\"),\n",
    "                         layers.Dense(32, activation=\"relu\"),\n",
    "                         layers.Dense(3, activation=None)])\n",
    "model.summary()\n",
    "model.compile(loss=\"mean_squared_error\", optimizer=Adam(learning_rate=0.0005))"
   ]
  },
  {
   "cell_type": "code",
   "execution_count": 10,
   "id": "72e89691",
   "metadata": {},
   "outputs": [
    {
     "name": "stdout",
     "output_type": "stream",
     "text": [
      "Epoch 1/200\n",
      "10353/10353 [==============================] - 20s 2ms/step - loss: 24.7184 - val_loss: 2.7033\n",
      "Epoch 2/200\n",
      "10353/10353 [==============================] - 19s 2ms/step - loss: 1.7812 - val_loss: 1.0614\n",
      "Epoch 3/200\n",
      "10353/10353 [==============================] - 19s 2ms/step - loss: 0.6008 - val_loss: 0.3380\n",
      "Epoch 4/200\n",
      "10353/10353 [==============================] - 19s 2ms/step - loss: 0.3215 - val_loss: 0.2801\n",
      "Epoch 5/200\n",
      "10353/10353 [==============================] - 19s 2ms/step - loss: 0.2264 - val_loss: 0.1893\n",
      "Epoch 6/200\n",
      "10353/10353 [==============================] - 19s 2ms/step - loss: 0.1902 - val_loss: 0.1711\n",
      "Epoch 7/200\n",
      "10353/10353 [==============================] - 19s 2ms/step - loss: 0.1695 - val_loss: 0.1532\n",
      "Epoch 8/200\n",
      "10353/10353 [==============================] - 19s 2ms/step - loss: 0.1597 - val_loss: 0.1773\n",
      "Epoch 9/200\n",
      "10353/10353 [==============================] - 19s 2ms/step - loss: 0.1551 - val_loss: 0.1427\n",
      "Epoch 10/200\n",
      "10353/10353 [==============================] - 19s 2ms/step - loss: 0.1496 - val_loss: 0.1502\n",
      "Epoch 11/200\n",
      "10353/10353 [==============================] - 19s 2ms/step - loss: 0.1457 - val_loss: 0.1406\n",
      "Epoch 12/200\n",
      "10353/10353 [==============================] - 18s 2ms/step - loss: 0.1431 - val_loss: 0.1389\n",
      "Epoch 13/200\n",
      "10353/10353 [==============================] - 18s 2ms/step - loss: 0.1404 - val_loss: 0.1270\n",
      "Epoch 14/200\n",
      "10353/10353 [==============================] - 19s 2ms/step - loss: 0.1394 - val_loss: 0.1459\n",
      "Epoch 15/200\n",
      "10353/10353 [==============================] - 19s 2ms/step - loss: 0.1370 - val_loss: 0.1294\n",
      "Epoch 16/200\n",
      "10353/10353 [==============================] - 19s 2ms/step - loss: 0.1359 - val_loss: 0.1381\n",
      "Epoch 17/200\n",
      "10353/10353 [==============================] - 19s 2ms/step - loss: 0.1339 - val_loss: 0.1348\n",
      "Epoch 18/200\n",
      "10353/10353 [==============================] - 19s 2ms/step - loss: 0.1329 - val_loss: 0.1331\n",
      "Epoch 19/200\n",
      "10353/10353 [==============================] - 19s 2ms/step - loss: 0.1309 - val_loss: 0.1337\n",
      "Epoch 20/200\n",
      "10353/10353 [==============================] - 19s 2ms/step - loss: 0.1311 - val_loss: 0.1326\n",
      "Epoch 21/200\n",
      "10353/10353 [==============================] - 19s 2ms/step - loss: 0.1297 - val_loss: 0.1369\n",
      "Epoch 22/200\n",
      "10353/10353 [==============================] - 18s 2ms/step - loss: 0.1281 - val_loss: 0.1214\n",
      "Epoch 23/200\n",
      "10353/10353 [==============================] - 19s 2ms/step - loss: 0.1272 - val_loss: 0.1396\n",
      "Epoch 24/200\n",
      "10353/10353 [==============================] - 19s 2ms/step - loss: 0.1273 - val_loss: 0.1436\n",
      "Epoch 25/200\n",
      "10353/10353 [==============================] - 19s 2ms/step - loss: 0.1264 - val_loss: 0.1236\n",
      "Epoch 26/200\n",
      "10353/10353 [==============================] - 19s 2ms/step - loss: 0.1248 - val_loss: 0.1212\n",
      "Epoch 27/200\n",
      "10353/10353 [==============================] - 19s 2ms/step - loss: 0.1247 - val_loss: 0.1231\n",
      "Epoch 28/200\n",
      "10353/10353 [==============================] - 18s 2ms/step - loss: 0.1247 - val_loss: 0.1330\n",
      "Epoch 29/200\n",
      "10353/10353 [==============================] - 18s 2ms/step - loss: 0.1240 - val_loss: 0.1155\n",
      "Epoch 30/200\n",
      "10353/10353 [==============================] - 18s 2ms/step - loss: 0.1224 - val_loss: 0.1167\n",
      "Epoch 31/200\n",
      "10353/10353 [==============================] - 19s 2ms/step - loss: 0.1222 - val_loss: 0.1196\n",
      "Epoch 32/200\n",
      "10353/10353 [==============================] - 19s 2ms/step - loss: 0.1217 - val_loss: 0.1155\n",
      "Epoch 33/200\n",
      "10353/10353 [==============================] - 19s 2ms/step - loss: 0.1218 - val_loss: 0.1223\n",
      "Epoch 34/200\n",
      "10353/10353 [==============================] - 19s 2ms/step - loss: 0.1222 - val_loss: 0.1178\n",
      "Epoch 35/200\n",
      "10353/10353 [==============================] - 19s 2ms/step - loss: 0.1214 - val_loss: 0.1208\n",
      "Epoch 36/200\n",
      "10353/10353 [==============================] - 19s 2ms/step - loss: 0.1209 - val_loss: 0.1316\n",
      "Epoch 37/200\n",
      "10353/10353 [==============================] - 19s 2ms/step - loss: 0.1205 - val_loss: 0.1191\n",
      "Epoch 38/200\n",
      "10353/10353 [==============================] - 18s 2ms/step - loss: 0.1203 - val_loss: 0.1317\n",
      "Epoch 39/200\n",
      "10353/10353 [==============================] - 19s 2ms/step - loss: 0.1194 - val_loss: 0.1182\n",
      "Epoch 40/200\n",
      "10353/10353 [==============================] - 19s 2ms/step - loss: 0.1186 - val_loss: 0.1138\n",
      "Epoch 41/200\n",
      "10353/10353 [==============================] - 19s 2ms/step - loss: 0.1195 - val_loss: 0.1144\n",
      "Epoch 42/200\n",
      "10353/10353 [==============================] - 19s 2ms/step - loss: 0.1188 - val_loss: 0.1323\n",
      "Epoch 43/200\n",
      "10353/10353 [==============================] - 19s 2ms/step - loss: 0.1187 - val_loss: 0.1231\n",
      "Epoch 44/200\n",
      "10353/10353 [==============================] - 19s 2ms/step - loss: 0.1187 - val_loss: 0.1246\n",
      "Epoch 45/200\n",
      "10353/10353 [==============================] - 19s 2ms/step - loss: 0.1177 - val_loss: 0.1160\n",
      "Epoch 46/200\n",
      "10353/10353 [==============================] - 19s 2ms/step - loss: 0.1179 - val_loss: 0.1110\n",
      "Epoch 47/200\n",
      "10353/10353 [==============================] - 18s 2ms/step - loss: 0.1170 - val_loss: 0.1097\n",
      "Epoch 48/200\n",
      "10353/10353 [==============================] - 19s 2ms/step - loss: 0.1174 - val_loss: 0.1113\n",
      "Epoch 49/200\n",
      "10353/10353 [==============================] - 19s 2ms/step - loss: 0.1168 - val_loss: 0.1206\n",
      "Epoch 50/200\n",
      "10353/10353 [==============================] - 19s 2ms/step - loss: 0.1168 - val_loss: 0.1192\n",
      "Epoch 51/200\n",
      "10353/10353 [==============================] - 19s 2ms/step - loss: 0.1165 - val_loss: 0.1147\n",
      "Epoch 52/200\n",
      "10353/10353 [==============================] - 19s 2ms/step - loss: 0.1161 - val_loss: 0.1103\n",
      "Epoch 53/200\n",
      "10353/10353 [==============================] - 19s 2ms/step - loss: 0.1157 - val_loss: 0.1155\n",
      "Epoch 54/200\n",
      "10353/10353 [==============================] - 19s 2ms/step - loss: 0.1157 - val_loss: 0.1093\n",
      "Epoch 55/200\n",
      "10353/10353 [==============================] - 19s 2ms/step - loss: 0.1151 - val_loss: 0.1163\n",
      "Epoch 56/200\n",
      "10353/10353 [==============================] - 19s 2ms/step - loss: 0.1155 - val_loss: 0.1113\n",
      "Epoch 57/200\n",
      "10353/10353 [==============================] - 19s 2ms/step - loss: 0.1157 - val_loss: 0.1208\n",
      "Epoch 58/200\n",
      "10353/10353 [==============================] - 19s 2ms/step - loss: 0.1152 - val_loss: 0.1056\n",
      "Epoch 59/200\n",
      "10353/10353 [==============================] - 19s 2ms/step - loss: 0.1153 - val_loss: 0.1113\n",
      "Epoch 60/200\n",
      "10353/10353 [==============================] - 19s 2ms/step - loss: 0.1146 - val_loss: 0.1078\n",
      "Epoch 61/200\n",
      "10353/10353 [==============================] - 19s 2ms/step - loss: 0.1142 - val_loss: 0.1156\n",
      "Epoch 62/200\n",
      "10353/10353 [==============================] - 19s 2ms/step - loss: 0.1143 - val_loss: 0.1169\n",
      "Epoch 63/200\n",
      "10353/10353 [==============================] - 19s 2ms/step - loss: 0.1142 - val_loss: 0.1088\n",
      "Epoch 64/200\n",
      "10353/10353 [==============================] - 19s 2ms/step - loss: 0.1136 - val_loss: 0.1090\n",
      "Epoch 65/200\n",
      "10353/10353 [==============================] - 19s 2ms/step - loss: 0.1146 - val_loss: 0.1082\n",
      "Epoch 66/200\n",
      "10353/10353 [==============================] - 19s 2ms/step - loss: 0.1130 - val_loss: 0.1123\n",
      "Epoch 67/200\n",
      "10353/10353 [==============================] - 19s 2ms/step - loss: 0.1147 - val_loss: 0.1118\n",
      "Epoch 68/200\n",
      "10353/10353 [==============================] - 19s 2ms/step - loss: 0.1128 - val_loss: 0.1105\n",
      "Epoch 69/200\n",
      "10353/10353 [==============================] - 19s 2ms/step - loss: 0.1135 - val_loss: 0.1167\n",
      "Epoch 70/200\n",
      "10353/10353 [==============================] - 19s 2ms/step - loss: 0.1132 - val_loss: 0.1141\n",
      "Epoch 71/200\n",
      "10353/10353 [==============================] - 19s 2ms/step - loss: 0.1129 - val_loss: 0.1246\n",
      "Epoch 72/200\n",
      "10353/10353 [==============================] - 19s 2ms/step - loss: 0.1130 - val_loss: 0.1102\n",
      "Epoch 73/200\n",
      "10353/10353 [==============================] - 19s 2ms/step - loss: 0.1126 - val_loss: 0.1216\n",
      "Epoch 74/200\n",
      "10353/10353 [==============================] - 19s 2ms/step - loss: 0.1135 - val_loss: 0.1120\n",
      "Epoch 75/200\n",
      "10353/10353 [==============================] - 19s 2ms/step - loss: 0.1124 - val_loss: 0.1063\n",
      "Epoch 76/200\n",
      "10353/10353 [==============================] - 19s 2ms/step - loss: 0.1123 - val_loss: 0.1088\n",
      "Epoch 77/200\n"
     ]
    },
    {
     "name": "stdout",
     "output_type": "stream",
     "text": [
      "10353/10353 [==============================] - 19s 2ms/step - loss: 0.1128 - val_loss: 0.1143\n",
      "Epoch 78/200\n",
      "10353/10353 [==============================] - 19s 2ms/step - loss: 0.1117 - val_loss: 0.1086\n",
      "Epoch 79/200\n",
      "10353/10353 [==============================] - 19s 2ms/step - loss: 0.1127 - val_loss: 0.1043\n",
      "Epoch 80/200\n",
      "10353/10353 [==============================] - 19s 2ms/step - loss: 0.1114 - val_loss: 0.1257\n",
      "Epoch 81/200\n",
      "10353/10353 [==============================] - 19s 2ms/step - loss: 0.1121 - val_loss: 0.1123\n",
      "Epoch 82/200\n",
      "10353/10353 [==============================] - 19s 2ms/step - loss: 0.1123 - val_loss: 0.1097\n",
      "Epoch 83/200\n",
      "10353/10353 [==============================] - 19s 2ms/step - loss: 0.1117 - val_loss: 0.1180\n",
      "Epoch 84/200\n",
      "10353/10353 [==============================] - 19s 2ms/step - loss: 0.1115 - val_loss: 0.1137\n",
      "Epoch 85/200\n",
      "10353/10353 [==============================] - 19s 2ms/step - loss: 0.1109 - val_loss: 0.1092\n",
      "Epoch 86/200\n",
      "10353/10353 [==============================] - 19s 2ms/step - loss: 0.1114 - val_loss: 0.1142\n",
      "Epoch 87/200\n",
      "10353/10353 [==============================] - 19s 2ms/step - loss: 0.1114 - val_loss: 0.1076\n",
      "Epoch 88/200\n",
      "10353/10353 [==============================] - 19s 2ms/step - loss: 0.1107 - val_loss: 0.1072\n",
      "Epoch 89/200\n",
      "10353/10353 [==============================] - 19s 2ms/step - loss: 0.1115 - val_loss: 0.1060\n",
      "Epoch 90/200\n",
      "10353/10353 [==============================] - 19s 2ms/step - loss: 0.1109 - val_loss: 0.1114\n",
      "Epoch 91/200\n",
      "10353/10353 [==============================] - 18s 2ms/step - loss: 0.1112 - val_loss: 0.1136\n",
      "Epoch 92/200\n",
      "10353/10353 [==============================] - 19s 2ms/step - loss: 0.1105 - val_loss: 0.1128\n",
      "Epoch 93/200\n",
      "10353/10353 [==============================] - 19s 2ms/step - loss: 0.1111 - val_loss: 0.1072\n",
      "Epoch 94/200\n",
      "10353/10353 [==============================] - 19s 2ms/step - loss: 0.1109 - val_loss: 0.1114\n",
      "Epoch 95/200\n",
      "10353/10353 [==============================] - 19s 2ms/step - loss: 0.1107 - val_loss: 0.1146\n",
      "Epoch 96/200\n",
      "10353/10353 [==============================] - 19s 2ms/step - loss: 0.1098 - val_loss: 0.1180\n",
      "Epoch 97/200\n",
      "10353/10353 [==============================] - 19s 2ms/step - loss: 0.1101 - val_loss: 0.1094\n",
      "Epoch 98/200\n",
      "10353/10353 [==============================] - 19s 2ms/step - loss: 0.1097 - val_loss: 0.1122\n",
      "Epoch 99/200\n",
      "10353/10353 [==============================] - 19s 2ms/step - loss: 0.1102 - val_loss: 0.1323\n",
      "Epoch 100/200\n",
      "10353/10353 [==============================] - 19s 2ms/step - loss: 0.1107 - val_loss: 0.1131\n",
      "Epoch 101/200\n",
      "10353/10353 [==============================] - 19s 2ms/step - loss: 0.1093 - val_loss: 0.1097\n",
      "Epoch 102/200\n",
      "10353/10353 [==============================] - 19s 2ms/step - loss: 0.1101 - val_loss: 0.1210\n",
      "Epoch 103/200\n",
      "10353/10353 [==============================] - 19s 2ms/step - loss: 0.1111 - val_loss: 0.1097\n",
      "Epoch 104/200\n",
      "10353/10353 [==============================] - 19s 2ms/step - loss: 0.1102 - val_loss: 0.1088\n",
      "Epoch 105/200\n",
      "10353/10353 [==============================] - 19s 2ms/step - loss: 0.1099 - val_loss: 0.1946\n",
      "Epoch 106/200\n",
      "10353/10353 [==============================] - 19s 2ms/step - loss: 0.1099 - val_loss: 0.1032\n",
      "Epoch 107/200\n",
      "10353/10353 [==============================] - 19s 2ms/step - loss: 0.1094 - val_loss: 0.1221\n",
      "Epoch 108/200\n",
      "10353/10353 [==============================] - 19s 2ms/step - loss: 0.1095 - val_loss: 0.1162\n",
      "Epoch 109/200\n",
      "10353/10353 [==============================] - 19s 2ms/step - loss: 0.1092 - val_loss: 0.1085\n",
      "Epoch 110/200\n",
      "10353/10353 [==============================] - 19s 2ms/step - loss: 0.1095 - val_loss: 0.1125\n",
      "Epoch 111/200\n",
      "10353/10353 [==============================] - 19s 2ms/step - loss: 0.1093 - val_loss: 0.1118\n",
      "Epoch 112/200\n",
      "10353/10353 [==============================] - 19s 2ms/step - loss: 0.1099 - val_loss: 0.1070\n",
      "Epoch 113/200\n",
      "10353/10353 [==============================] - 19s 2ms/step - loss: 0.1096 - val_loss: 0.1241\n",
      "Epoch 114/200\n",
      "10353/10353 [==============================] - 19s 2ms/step - loss: 0.1094 - val_loss: 0.1047\n",
      "Epoch 115/200\n",
      "10353/10353 [==============================] - 19s 2ms/step - loss: 0.1093 - val_loss: 0.1125\n",
      "Epoch 116/200\n",
      "10353/10353 [==============================] - 19s 2ms/step - loss: 0.1088 - val_loss: 0.1033\n",
      "Epoch 117/200\n",
      "10353/10353 [==============================] - 19s 2ms/step - loss: 0.1089 - val_loss: 0.1094\n",
      "Epoch 118/200\n",
      "10353/10353 [==============================] - 18s 2ms/step - loss: 0.1092 - val_loss: 0.1698\n",
      "Epoch 119/200\n",
      "10353/10353 [==============================] - 19s 2ms/step - loss: 0.1089 - val_loss: 0.1094\n",
      "Epoch 120/200\n",
      "10353/10353 [==============================] - 19s 2ms/step - loss: 0.1088 - val_loss: 0.1102\n",
      "Epoch 121/200\n",
      "10353/10353 [==============================] - 19s 2ms/step - loss: 0.1093 - val_loss: 0.1126\n",
      "Epoch 122/200\n",
      "10353/10353 [==============================] - 19s 2ms/step - loss: 0.1091 - val_loss: 0.1098\n",
      "Epoch 123/200\n",
      "10353/10353 [==============================] - 18s 2ms/step - loss: 0.1102 - val_loss: 0.1127\n",
      "Epoch 124/200\n",
      "10353/10353 [==============================] - 19s 2ms/step - loss: 0.1090 - val_loss: 0.1295\n",
      "Epoch 125/200\n",
      "10353/10353 [==============================] - 19s 2ms/step - loss: 0.1089 - val_loss: 0.1101\n",
      "Epoch 126/200\n",
      "10353/10353 [==============================] - 19s 2ms/step - loss: 0.1083 - val_loss: 0.1065\n",
      "Epoch 127/200\n",
      "10353/10353 [==============================] - 19s 2ms/step - loss: 0.1086 - val_loss: 0.1103\n",
      "Epoch 128/200\n",
      "10353/10353 [==============================] - 19s 2ms/step - loss: 0.1091 - val_loss: 0.1158\n",
      "Epoch 129/200\n",
      "10353/10353 [==============================] - 19s 2ms/step - loss: 0.1086 - val_loss: 0.1071\n",
      "Epoch 130/200\n",
      "10353/10353 [==============================] - 19s 2ms/step - loss: 0.1086 - val_loss: 0.1162\n",
      "Epoch 131/200\n",
      "10353/10353 [==============================] - 19s 2ms/step - loss: 0.1081 - val_loss: 0.1144\n",
      "Epoch 132/200\n",
      "10353/10353 [==============================] - 19s 2ms/step - loss: 0.1089 - val_loss: 0.1039\n",
      "Epoch 133/200\n",
      "10353/10353 [==============================] - 19s 2ms/step - loss: 0.1086 - val_loss: 0.1060\n",
      "Epoch 134/200\n",
      "10353/10353 [==============================] - 19s 2ms/step - loss: 0.1082 - val_loss: 0.1086\n",
      "Epoch 135/200\n",
      "10353/10353 [==============================] - 19s 2ms/step - loss: 0.1085 - val_loss: 0.1054\n",
      "Epoch 136/200\n",
      "10353/10353 [==============================] - 19s 2ms/step - loss: 0.1083 - val_loss: 0.1048\n",
      "Epoch 137/200\n",
      "10353/10353 [==============================] - 19s 2ms/step - loss: 0.1081 - val_loss: 0.1099\n",
      "Epoch 138/200\n",
      "10353/10353 [==============================] - 19s 2ms/step - loss: 0.1072 - val_loss: 0.1060\n",
      "Epoch 139/200\n",
      "10353/10353 [==============================] - 19s 2ms/step - loss: 0.1079 - val_loss: 0.1050\n",
      "Epoch 140/200\n",
      "10353/10353 [==============================] - 19s 2ms/step - loss: 0.1084 - val_loss: 0.1055\n",
      "Epoch 141/200\n",
      "10353/10353 [==============================] - 19s 2ms/step - loss: 0.1079 - val_loss: 0.1157\n",
      "Epoch 142/200\n",
      "10353/10353 [==============================] - 19s 2ms/step - loss: 0.1091 - val_loss: 0.1074\n",
      "Epoch 143/200\n",
      "10353/10353 [==============================] - 19s 2ms/step - loss: 0.1084 - val_loss: 0.1141\n",
      "Epoch 144/200\n",
      "10353/10353 [==============================] - 19s 2ms/step - loss: 0.1078 - val_loss: 0.1150\n",
      "Epoch 145/200\n",
      "10353/10353 [==============================] - 19s 2ms/step - loss: 0.1079 - val_loss: 0.1098\n",
      "Epoch 146/200\n",
      "10353/10353 [==============================] - 20s 2ms/step - loss: 0.1080 - val_loss: 0.1079\n",
      "Epoch 147/200\n",
      "10353/10353 [==============================] - 19s 2ms/step - loss: 0.1073 - val_loss: 0.1043\n",
      "Epoch 148/200\n",
      "10353/10353 [==============================] - 19s 2ms/step - loss: 0.1078 - val_loss: 0.1029\n",
      "Epoch 149/200\n",
      "10353/10353 [==============================] - 19s 2ms/step - loss: 0.1074 - val_loss: 0.1102\n",
      "Epoch 150/200\n",
      "10353/10353 [==============================] - 19s 2ms/step - loss: 0.1070 - val_loss: 0.1164\n",
      "Epoch 151/200\n",
      "10353/10353 [==============================] - 19s 2ms/step - loss: 0.1074 - val_loss: 0.1089\n",
      "Epoch 152/200\n",
      "10353/10353 [==============================] - 19s 2ms/step - loss: 0.1071 - val_loss: 0.1072\n",
      "Epoch 153/200\n"
     ]
    },
    {
     "name": "stdout",
     "output_type": "stream",
     "text": [
      "10353/10353 [==============================] - 19s 2ms/step - loss: 0.1072 - val_loss: 0.1319\n",
      "Epoch 154/200\n",
      "10353/10353 [==============================] - 19s 2ms/step - loss: 0.1070 - val_loss: 0.1103\n",
      "Epoch 155/200\n",
      "10353/10353 [==============================] - 19s 2ms/step - loss: 0.1070 - val_loss: 0.1065\n",
      "Epoch 156/200\n",
      "10353/10353 [==============================] - 19s 2ms/step - loss: 0.1075 - val_loss: 0.1066\n",
      "Epoch 157/200\n",
      "10353/10353 [==============================] - 19s 2ms/step - loss: 0.1075 - val_loss: 0.1109\n",
      "Epoch 158/200\n",
      "10353/10353 [==============================] - 18s 2ms/step - loss: 0.1075 - val_loss: 0.1183\n",
      "Epoch 159/200\n",
      "10353/10353 [==============================] - 19s 2ms/step - loss: 0.1078 - val_loss: 0.1150\n",
      "Epoch 160/200\n",
      "10353/10353 [==============================] - 19s 2ms/step - loss: 0.1064 - val_loss: 0.1061\n",
      "Epoch 161/200\n",
      "10353/10353 [==============================] - 19s 2ms/step - loss: 0.1067 - val_loss: 0.1078\n",
      "Epoch 162/200\n",
      "10353/10353 [==============================] - 19s 2ms/step - loss: 0.1060 - val_loss: 0.1061\n",
      "Epoch 163/200\n",
      "10353/10353 [==============================] - 19s 2ms/step - loss: 0.1064 - val_loss: 0.1140\n",
      "Epoch 164/200\n",
      "10353/10353 [==============================] - 19s 2ms/step - loss: 0.1062 - val_loss: 0.1113\n",
      "Epoch 165/200\n",
      "10353/10353 [==============================] - 19s 2ms/step - loss: 0.1071 - val_loss: 0.1115\n",
      "Epoch 166/200\n",
      "10353/10353 [==============================] - 19s 2ms/step - loss: 0.1068 - val_loss: 0.1116\n",
      "Epoch 167/200\n",
      "10353/10353 [==============================] - 19s 2ms/step - loss: 0.1068 - val_loss: 0.1205\n",
      "Epoch 168/200\n",
      "10353/10353 [==============================] - 19s 2ms/step - loss: 0.1068 - val_loss: 0.1071\n",
      "Epoch 169/200\n",
      "10353/10353 [==============================] - 19s 2ms/step - loss: 0.1063 - val_loss: 0.1128\n",
      "Epoch 170/200\n",
      "10353/10353 [==============================] - 19s 2ms/step - loss: 0.1070 - val_loss: 0.1094\n",
      "Epoch 171/200\n",
      "10353/10353 [==============================] - 18s 2ms/step - loss: 0.1065 - val_loss: 0.1123\n",
      "Epoch 172/200\n",
      "10353/10353 [==============================] - 19s 2ms/step - loss: 0.1059 - val_loss: 0.1109\n",
      "Epoch 173/200\n",
      "10353/10353 [==============================] - 19s 2ms/step - loss: 0.1059 - val_loss: 0.1087\n",
      "Epoch 174/200\n",
      "10353/10353 [==============================] - 19s 2ms/step - loss: 0.1056 - val_loss: 0.1098\n",
      "Epoch 175/200\n",
      "10353/10353 [==============================] - 19s 2ms/step - loss: 0.1065 - val_loss: 0.1150\n",
      "Epoch 176/200\n",
      "10353/10353 [==============================] - 19s 2ms/step - loss: 0.1058 - val_loss: 0.1073\n",
      "Epoch 177/200\n",
      "10353/10353 [==============================] - 19s 2ms/step - loss: 0.1063 - val_loss: 0.1249\n",
      "Epoch 178/200\n",
      "10353/10353 [==============================] - 19s 2ms/step - loss: 0.1062 - val_loss: 0.1032\n",
      "Epoch 179/200\n",
      "10353/10353 [==============================] - 19s 2ms/step - loss: 0.1065 - val_loss: 0.1152\n",
      "Epoch 180/200\n",
      "10353/10353 [==============================] - 19s 2ms/step - loss: 0.1061 - val_loss: 0.1104\n",
      "Epoch 181/200\n",
      "10353/10353 [==============================] - 19s 2ms/step - loss: 0.1058 - val_loss: 0.1038\n",
      "Epoch 182/200\n",
      "10353/10353 [==============================] - 19s 2ms/step - loss: 0.1063 - val_loss: 0.1063\n",
      "Epoch 183/200\n",
      "10353/10353 [==============================] - 19s 2ms/step - loss: 0.1058 - val_loss: 0.1120\n",
      "Epoch 184/200\n",
      "10353/10353 [==============================] - 19s 2ms/step - loss: 0.1066 - val_loss: 0.1058\n",
      "Epoch 185/200\n",
      "10353/10353 [==============================] - 19s 2ms/step - loss: 0.1060 - val_loss: 0.1058\n",
      "Epoch 186/200\n",
      "10353/10353 [==============================] - 19s 2ms/step - loss: 0.1068 - val_loss: 0.1023\n",
      "Epoch 187/200\n",
      "10353/10353 [==============================] - 19s 2ms/step - loss: 0.1063 - val_loss: 0.1082\n",
      "Epoch 188/200\n",
      "10353/10353 [==============================] - 19s 2ms/step - loss: 0.1055 - val_loss: 0.1078\n",
      "Epoch 189/200\n",
      "10353/10353 [==============================] - 19s 2ms/step - loss: 0.1059 - val_loss: 0.1133\n",
      "Epoch 190/200\n",
      "10353/10353 [==============================] - 19s 2ms/step - loss: 0.1060 - val_loss: 0.1046\n",
      "Epoch 191/200\n",
      "10353/10353 [==============================] - 19s 2ms/step - loss: 0.1060 - val_loss: 0.1083\n",
      "Epoch 192/200\n",
      "10353/10353 [==============================] - 19s 2ms/step - loss: 0.1057 - val_loss: 0.1024\n",
      "Epoch 193/200\n",
      "10353/10353 [==============================] - 19s 2ms/step - loss: 0.1056 - val_loss: 0.1091\n",
      "Epoch 194/200\n",
      "10353/10353 [==============================] - 19s 2ms/step - loss: 0.1048 - val_loss: 0.1158\n",
      "Epoch 195/200\n",
      "10353/10353 [==============================] - 19s 2ms/step - loss: 0.1058 - val_loss: 0.1169\n",
      "Epoch 196/200\n",
      "10353/10353 [==============================] - 19s 2ms/step - loss: 0.1063 - val_loss: 0.1073\n",
      "Epoch 197/200\n",
      "10353/10353 [==============================] - 19s 2ms/step - loss: 0.1052 - val_loss: 0.1117\n",
      "Epoch 198/200\n",
      "10353/10353 [==============================] - 19s 2ms/step - loss: 0.1067 - val_loss: 0.1045\n",
      "Epoch 199/200\n",
      "10353/10353 [==============================] - 19s 2ms/step - loss: 0.1051 - val_loss: 0.1045\n",
      "Epoch 200/200\n",
      "10353/10353 [==============================] - 19s 2ms/step - loss: 0.1057 - val_loss: 0.1023\n",
      "This took  62.86302926143011 min\n"
     ]
    }
   ],
   "source": [
    "a = time.time()\n",
    "fit_hist = model.fit(clusters, training, batch_size=50, epochs=200, validation_split=0.1)\n",
    "b = time.time()\n",
    "\n",
    "print(\"This took \", (b-a)/60, \"min\")"
   ]
  },
  {
   "cell_type": "code",
   "execution_count": 11,
   "id": "eb13532e",
   "metadata": {},
   "outputs": [
    {
     "name": "stdout",
     "output_type": "stream",
     "text": [
      "INFO:tensorflow:Assets written to: stage1_simpestNN_200epochs/assets\n"
     ]
    }
   ],
   "source": [
    "keras.models.save_model(model, 'stage1_simpestNN_200epochs')"
   ]
  },
  {
   "cell_type": "code",
   "execution_count": 14,
   "id": "605df345",
   "metadata": {},
   "outputs": [
    {
     "data": {
      "image/png": "[encoded data removed]",
      "text/plain": [
       "<Figure size 720x432 with 1 Axes>"
      ]
     },
     "metadata": {
      "needs_background": "light"
     },
     "output_type": "display_data"
    }
   ],
   "source": [
    "plt.rcParams[\"figure.figsize\"] = (10,6)\n",
    "mf.training_vs_validation_loss(fit_hist)"
   ]
  },
  {
   "cell_type": "code",
   "execution_count": 15,
   "id": "0a413157",
   "metadata": {},
   "outputs": [
    {
     "name": "stdout",
     "output_type": "stream",
     "text": [
      "This took  55.710262298583984 s\n"
     ]
    },
    {
     "name": "stderr",
     "output_type": "stream",
     "text": [
      "/nfs/freenas/tuph/e18/project/compass/analysis/saumiller/ecal/stage1/myfunctions.py:69: VisibleDeprecationWarning: Creating an ndarray from ragged nested sequences (which is a list-or-tuple of lists-or-tuples-or ndarrays with different lengths or shapes) is deprecated. If you meant to do this, you must specify 'dtype=object' when creating the ndarray\n",
      "  return arr_cluster, np.array(c_sys), np.array(edge_x), np.array(edge_y)\n"
     ]
    }
   ],
   "source": [
    "clusters5x5_v, coord_v, x_edge_v, y_edge_v = mf.form_cluster(xMC_veri, yMC_veri, EMC_veri)\n",
    "clusters_v = clusters5x5_v.reshape((clusters5x5_v.shape[0], 25))"
   ]
  },
  {
   "cell_type": "code",
   "execution_count": 16,
   "id": "62b1568a",
   "metadata": {},
   "outputs": [],
   "source": [
    "output = model.predict(clusters_v)"
   ]
  },
  {
   "cell_type": "code",
   "execution_count": 17,
   "id": "cf720b7c",
   "metadata": {},
   "outputs": [],
   "source": [
    "# prep data\n",
    "veri_truth_data = mf.prep_trainingsdata(x_truth_veri, y_truth_veri, E_truth_veri, coord_v)\n",
    "veri_fit_data = mf.prep_trainingsdata(x_fit_veri, y_fit_veri, E_fit_veri, coord_v)"
   ]
  },
  {
   "cell_type": "code",
   "execution_count": 19,
   "id": "7bebef5f",
   "metadata": {},
   "outputs": [
    {
     "data": {
      "image/png": "[encoded data removed]",
      "text/plain": [
       "<Figure size 720x432 with 2 Axes>"
      ]
     },
     "metadata": {
      "needs_background": "light"
     },
     "output_type": "display_data"
    },
    {
     "data": {
      "text/plain": [
       "(array([3.46103093e-03, 7.05535023e-02, 8.31501394e+02]),\n",
       " array([5.11626322e-04, 6.79156628e-04, 6.43319962e+00]),\n",
       " array([1.81612826e-02, 1.47285352e-01, 1.50095889e+03]),\n",
       " array([1.16233843e-02, 2.74563406e-02, 2.33778820e+02]))"
      ]
     },
     "execution_count": 19,
     "metadata": {},
     "output_type": "execute_result"
    }
   ],
   "source": [
    "mf.histo_output(output.T[0], veri_fit_data.T[0], veri_truth_data.T[0], name=\"x\", bins=300)"
   ]
  },
  {
   "cell_type": "code",
   "execution_count": 20,
   "id": "c31e8873",
   "metadata": {},
   "outputs": [
    {
     "data": {
      "image/png": "[encoded data removed]",
      "text/plain": [
       "<Figure size 720x432 with 2 Axes>"
      ]
     },
     "metadata": {
      "needs_background": "light"
     },
     "output_type": "display_data"
    },
    {
     "data": {
      "text/plain": [
       "(array([-1.34740636e-02,  6.25962976e-02,  8.61709728e+02]),\n",
       " array([4.82521155e-04, 6.41889765e-04, 7.09928248e+00]),\n",
       " array([-3.59438498e-03, -1.07906288e-01,  1.31565629e+03]),\n",
       " array([7.84213157e-03, 1.66472648e-02, 1.65005444e+02]))"
      ]
     },
     "execution_count": 20,
     "metadata": {},
     "output_type": "execute_result"
    }
   ],
   "source": [
    "mf.histo_output(output.T[1], veri_fit_data.T[1], veri_truth_data.T[1], name=\"y\")"
   ]
  },
  {
   "cell_type": "code",
   "execution_count": 21,
   "id": "c2341263",
   "metadata": {},
   "outputs": [
    {
     "data": {
      "image/png": "[encoded data removed]",
      "text/plain": [
       "<Figure size 720x432 with 2 Axes>"
      ]
     },
     "metadata": {
      "needs_background": "light"
     },
     "output_type": "display_data"
    },
    {
     "data": {
      "text/plain": [
       "(array([-5.22149746e-02,  3.08873213e-02,  1.55230156e+03]),\n",
       " array([1.31504688e-03, 1.68822541e-03, 6.87907801e+01]),\n",
       " array([   3.2696807 ,    2.72493759, 1563.2565595 ]),\n",
       " array([0.01290007, 0.01738669, 7.99624934]))"
      ]
     },
     "execution_count": 21,
     "metadata": {},
     "output_type": "execute_result"
    }
   ],
   "source": [
    "mf.histo_output(output.T[2], veri_fit_data.T[2], veri_truth_data.T[2], name=\"E\", range_x=(-2.5,9), bins=1000)"
   ]
  },
  {
   "cell_type": "markdown",
   "id": "13c5f493",
   "metadata": {},
   "source": [
    "<h2> summary </h2>\n",
    "\n",
    "This is the outcome of training 200 epochs instead of 50:\n",
    "\n",
    "| (x/y/E) | $\\mu$ | $\\sigma$ |\n",
    "| --- | --- | --- |\n",
    "| simplest model 50 epochs | 0.107 / 0.070 / 0.081 | 0.071 / 0.066 / 0.054 |\n",
    "| simplest model 200 epochs | 0.003 / 0.013 / 0.052| 0.071 / 0.063 / 0.031 |\n",
    "\n",
    "One can see that the mean get's significantly better but the width of the Gaussian stays the same."
   ]
  },
  {
   "cell_type": "code",
   "execution_count": null,
   "id": "53e8b5cf",
   "metadata": {},
   "outputs": [],
   "source": []
  }
 ],
 "metadata": {
  "kernelspec": {
   "display_name": "Python 3",
   "language": "python",
   "name": "python3"
  },
  "language_info": {
   "codemirror_mode": {
    "name": "ipython",
    "version": 3
   },
   "file_extension": ".py",
   "mimetype": "text/x-python",
   "name": "python",
   "nbconvert_exporter": "python",
   "pygments_lexer": "ipython3",
   "version": "3.6.8"
  }
 },
 "nbformat": 4,
 "nbformat_minor": 5
}
