{
 "cells": [
  {
   "cell_type": "markdown",
   "id": "6498c976",
   "metadata": {},
   "source": [
    "<h1> Simple neural Network"
   ]
  },
  {
   "cell_type": "code",
   "execution_count": 15,
   "id": "04e2297b",
   "metadata": {},
   "outputs": [],
   "source": [
    "import myfunctions as mf\n",
    "from tensorflow import keras\n",
    "from tensorflow.keras import layers\n",
    "import numpy as np\n",
    "import matplotlib.pyplot as plt\n",
    "import uproot\n",
    "from tensorflow.keras.optimizers import Adam"
   ]
  },
  {
   "cell_type": "code",
   "execution_count": 2,
   "id": "04fd24fa",
   "metadata": {},
   "outputs": [],
   "source": [
    "# load data\n",
    "rootfile = uproot.open(\"./stage1_clusters_bigdata.root\")\n",
    "event = rootfile[\"user202302;1\"]\n",
    "xMC = event[\"x_MC\"].array(library=\"np\") #[:40000]\n",
    "yMC = event[\"y_MC\"].array(library=\"np\") #[:40000]\n",
    "EMC = event[\"E_MC\"].array(library=\"np\") #[:40000]\n",
    "x_truth = event[\"x_truth\"].array(library=\"np\") #[:40000]\n",
    "y_truth = event[\"y_truth\"].array(library=\"np\") #[:40000]\n",
    "E_truth = event[\"E_truth\"].array(library=\"np\") #[:40000]\n",
    "x_fit = event[\"x_fit\"].array(library=\"np\") #[:40000]\n",
    "y_fit = event[\"y_fit\"].array(library=\"np\") #[:40000]\n",
    "E_fit = event[\"E_fit\"].array(library=\"np\") #[:40000]"
   ]
  },
  {
   "cell_type": "code",
   "execution_count": 3,
   "id": "708aca11",
   "metadata": {},
   "outputs": [],
   "source": [
    "def cut_clusters_bigger_than5(xMC, yMC):\n",
    "    for i in range(len(xMC)):\n",
    "        x = xMC[i]\n",
    "        y = yMC[i]\n",
    "        val_x, count_x = np.unique(x, return_counts=True)\n",
    "        val_y, count_y = np.unique(y, return_counts=True)\n",
    "        if (count_x.max()>5 or count_y.max()>5):\n",
    "            print(i)\n",
    "\n",
    "# fast fix:\n",
    "ind_cut = np.array([40273, 40768, 170553, 182447, 223826, 228847, 295810, 328797, 419807, 438893, 496042, 502671, 508168, 570441, 622217, 646609])\n"
   ]
  },
  {
   "cell_type": "markdown",
   "id": "c9fffdce",
   "metadata": {},
   "source": [
    "Delecte all clusters that are bigger thatn 5x5! That's a problem for later on"
   ]
  },
  {
   "cell_type": "code",
   "execution_count": 6,
   "id": "9aec0958",
   "metadata": {},
   "outputs": [],
   "source": [
    "xMC = np.delete(xMC, ind_cut, axis=0)\n",
    "yMC = np.delete(yMC, ind_cut, axis=0)\n",
    "EMC = np.delete(EMC, ind_cut, axis=0)\n",
    "x_truth = np.delete(x_truth, ind_cut)\n",
    "y_truth = np.delete(y_truth, ind_cut)\n",
    "E_truth = np.delete(E_truth, ind_cut)\n",
    "x_fit = np.delete(x_fit, ind_cut)\n",
    "y_fit = np.delete(y_fit, ind_cut)\n",
    "E_fit = np.delete(E_fit, ind_cut)"
   ]
  },
  {
   "cell_type": "code",
   "execution_count": 8,
   "id": "10251671",
   "metadata": {},
   "outputs": [],
   "source": [
    "# devide into training and verification \n",
    "xMC_train = xMC[:round(len(E_truth)*0.8)]\n",
    "xMC_veri = xMC[round(len(E_truth)*0.8):]\n",
    "\n",
    "yMC_train = yMC[:round(len(E_truth)*0.8)]\n",
    "yMC_veri = yMC[round(len(E_truth)*0.8):]\n",
    "\n",
    "EMC_train = EMC[:round(len(E_truth)*0.8)]\n",
    "EMC_veri = EMC[round(len(E_truth)*0.8):]\n",
    "\n",
    "x_truth_train = x_truth[:round(len(E_truth)*0.8)]\n",
    "x_truth_veri = x_truth[round(len(E_truth)*0.8):]\n",
    "\n",
    "y_truth_train = y_truth[:round(len(E_truth)*0.8)]\n",
    "y_truth_veri = y_truth[round(len(E_truth)*0.8):]\n",
    "\n",
    "E_truth_train = E_truth[:round(len(E_truth)*0.8)]\n",
    "E_truth_veri = E_truth[round(len(E_truth)*0.8):]\n",
    "\n",
    "x_fit_veri = x_fit[round(len(E_truth)*0.8):]\n",
    "y_fit_veri = y_fit[round(len(E_truth)*0.8):]\n",
    "E_fit_veri = E_fit[round(len(E_truth)*0.8):]"
   ]
  },
  {
   "cell_type": "code",
   "execution_count": 9,
   "id": "13c81031",
   "metadata": {},
   "outputs": [
    {
     "name": "stdout",
     "output_type": "stream",
     "text": [
      "This took  226.34638595581055 s\n"
     ]
    },
    {
     "name": "stderr",
     "output_type": "stream",
     "text": [
      "/nfs/freenas/tuph/e18/project/compass/analysis/saumiller/ecal/myfunctions.py:67: VisibleDeprecationWarning: Creating an ndarray from ragged nested sequences (which is a list-or-tuple of lists-or-tuples-or ndarrays with different lengths or shapes) is deprecated. If you meant to do this, you must specify 'dtype=object' when creating the ndarray\n",
      "  return arr_cluster, np.array(c_sys), np.array(edge_x), np.array(edge_y)\n"
     ]
    },
    {
     "name": "stdout",
     "output_type": "stream",
     "text": [
      "(575162, 25)\n"
     ]
    }
   ],
   "source": [
    "clusters5x5, coord, x_edge, y_edge = mf.form_cluster(xMC_train, yMC_train, EMC_train)\n",
    "clusters = clusters5x5.reshape((clusters5x5.shape[0], 25))\n",
    "print(clusters.shape)"
   ]
  },
  {
   "cell_type": "code",
   "execution_count": 10,
   "id": "85ba6edf",
   "metadata": {},
   "outputs": [
    {
     "name": "stdout",
     "output_type": "stream",
     "text": [
      "(575162, 3)\n"
     ]
    }
   ],
   "source": [
    "training = mf.prep_trainingsdata(x_truth_train, y_truth_train, E_truth_train, coord)\n",
    "print(training.shape) # (575162, 3)"
   ]
  },
  {
   "cell_type": "markdown",
   "id": "cad2a2d0",
   "metadata": {},
   "source": [
    "<h2> Simple NN"
   ]
  },
  {
   "cell_type": "code",
   "execution_count": 30,
   "id": "afc493b3",
   "metadata": {},
   "outputs": [
    {
     "name": "stdout",
     "output_type": "stream",
     "text": [
      "Model: \"sequential_2\"\n",
      "_________________________________________________________________\n",
      "Layer (type)                 Output Shape              Param #   \n",
      "=================================================================\n",
      "dense_12 (Dense)             (None, 64)                1664      \n",
      "_________________________________________________________________\n",
      "dense_13 (Dense)             (None, 128)               8320      \n",
      "_________________________________________________________________\n",
      "dense_14 (Dense)             (None, 256)               33024     \n",
      "_________________________________________________________________\n",
      "dense_15 (Dense)             (None, 128)               32896     \n",
      "_________________________________________________________________\n",
      "dense_16 (Dense)             (None, 64)                8256      \n",
      "_________________________________________________________________\n",
      "dense_17 (Dense)             (None, 32)                2080      \n",
      "_________________________________________________________________\n",
      "dense_18 (Dense)             (None, 3)                 99        \n",
      "=================================================================\n",
      "Total params: 86,339\n",
      "Trainable params: 86,339\n",
      "Non-trainable params: 0\n",
      "_________________________________________________________________\n"
     ]
    }
   ],
   "source": [
    "model1 = keras.Sequential([layers.Input(shape=(25)),\n",
    "                         layers.Dense(64, activation=\"relu\"),\n",
    "                         layers.Dense(128, activation=\"relu\"),\n",
    "                         layers.Dense(256, activation=\"relu\"),\n",
    "                         layers.Dense(128, activation=\"relu\"),\n",
    "                         layers.Dense(64, activation=\"relu\"),\n",
    "                         layers.Dense(32, activation=\"relu\"),\n",
    "                         layers.Dense(3, activation=None)])\n",
    "model.summary()"
   ]
  },
  {
   "cell_type": "code",
   "execution_count": 31,
   "id": "13fa64ac",
   "metadata": {},
   "outputs": [],
   "source": [
    "model1.compile(loss=\"mean_squared_error\", optimizer=Adam(learning_rate=0.0005))"
   ]
  },
  {
   "cell_type": "code",
   "execution_count": 32,
   "id": "e0676b3d",
   "metadata": {},
   "outputs": [
    {
     "name": "stdout",
     "output_type": "stream",
     "text": [
      "Epoch 1/50\n",
      "10353/10353 [==============================] - 19s 2ms/step - loss: 20.5993 - val_loss: 2.8400\n",
      "Epoch 2/50\n",
      "10353/10353 [==============================] - 19s 2ms/step - loss: 1.7174 - val_loss: 2.3046\n",
      "Epoch 3/50\n",
      "10353/10353 [==============================] - 18s 2ms/step - loss: 0.6330 - val_loss: 0.3801\n",
      "Epoch 4/50\n",
      "10353/10353 [==============================] - 19s 2ms/step - loss: 0.3144 - val_loss: 0.2771\n",
      "Epoch 5/50\n",
      "10353/10353 [==============================] - 18s 2ms/step - loss: 0.2344 - val_loss: 0.1962\n",
      "Epoch 6/50\n",
      "10353/10353 [==============================] - 19s 2ms/step - loss: 0.2022 - val_loss: 0.1982\n",
      "Epoch 7/50\n",
      "10353/10353 [==============================] - 19s 2ms/step - loss: 0.1804 - val_loss: 0.1571\n",
      "Epoch 8/50\n",
      "10353/10353 [==============================] - 19s 2ms/step - loss: 0.1655 - val_loss: 0.1409\n",
      "Epoch 9/50\n",
      "10353/10353 [==============================] - 19s 2ms/step - loss: 0.1561 - val_loss: 0.1353\n",
      "Epoch 10/50\n",
      "10353/10353 [==============================] - 19s 2ms/step - loss: 0.1507 - val_loss: 0.1655\n",
      "Epoch 11/50\n",
      "10353/10353 [==============================] - 19s 2ms/step - loss: 0.1459 - val_loss: 0.1362\n",
      "Epoch 12/50\n",
      "10353/10353 [==============================] - 19s 2ms/step - loss: 0.1440 - val_loss: 0.1526\n",
      "Epoch 13/50\n",
      "10353/10353 [==============================] - 18s 2ms/step - loss: 0.1401 - val_loss: 0.1431\n",
      "Epoch 14/50\n",
      "10353/10353 [==============================] - 19s 2ms/step - loss: 0.1375 - val_loss: 0.1309\n",
      "Epoch 15/50\n",
      "10353/10353 [==============================] - 19s 2ms/step - loss: 0.1362 - val_loss: 0.1315\n",
      "Epoch 16/50\n",
      "10353/10353 [==============================] - 19s 2ms/step - loss: 0.1343 - val_loss: 0.1224\n",
      "Epoch 17/50\n",
      "10353/10353 [==============================] - 19s 2ms/step - loss: 0.1330 - val_loss: 0.1540\n",
      "Epoch 18/50\n",
      "10353/10353 [==============================] - 19s 2ms/step - loss: 0.1314 - val_loss: 0.1309\n",
      "Epoch 19/50\n",
      "10353/10353 [==============================] - 19s 2ms/step - loss: 0.1298 - val_loss: 0.1344\n",
      "Epoch 20/50\n",
      "10353/10353 [==============================] - 19s 2ms/step - loss: 0.1287 - val_loss: 0.1181\n",
      "Epoch 21/50\n",
      "10353/10353 [==============================] - 19s 2ms/step - loss: 0.1272 - val_loss: 0.1286\n",
      "Epoch 22/50\n",
      "10353/10353 [==============================] - 18s 2ms/step - loss: 0.1273 - val_loss: 0.1229\n",
      "Epoch 23/50\n",
      "10353/10353 [==============================] - 19s 2ms/step - loss: 0.1268 - val_loss: 0.1201\n",
      "Epoch 24/50\n",
      "10353/10353 [==============================] - 19s 2ms/step - loss: 0.1260 - val_loss: 0.1233\n",
      "Epoch 25/50\n",
      "10353/10353 [==============================] - 19s 2ms/step - loss: 0.1257 - val_loss: 0.1148\n",
      "Epoch 26/50\n",
      "10353/10353 [==============================] - 19s 2ms/step - loss: 0.1247 - val_loss: 0.1378\n",
      "Epoch 27/50\n",
      "10353/10353 [==============================] - 19s 2ms/step - loss: 0.1236 - val_loss: 0.1123\n",
      "Epoch 28/50\n",
      "10353/10353 [==============================] - 19s 2ms/step - loss: 0.1245 - val_loss: 0.1155\n",
      "Epoch 29/50\n",
      "10353/10353 [==============================] - 18s 2ms/step - loss: 0.1230 - val_loss: 0.1182\n",
      "Epoch 30/50\n",
      "10353/10353 [==============================] - 18s 2ms/step - loss: 0.1236 - val_loss: 0.1165\n",
      "Epoch 31/50\n",
      "10353/10353 [==============================] - 18s 2ms/step - loss: 0.1224 - val_loss: 0.1099\n",
      "Epoch 32/50\n",
      "10353/10353 [==============================] - 19s 2ms/step - loss: 0.1205 - val_loss: 0.1289\n",
      "Epoch 33/50\n",
      "10353/10353 [==============================] - 18s 2ms/step - loss: 0.1212 - val_loss: 0.1162\n",
      "Epoch 34/50\n",
      "10353/10353 [==============================] - 19s 2ms/step - loss: 0.1206 - val_loss: 0.1153\n",
      "Epoch 35/50\n",
      "10353/10353 [==============================] - 19s 2ms/step - loss: 0.1199 - val_loss: 0.1130\n",
      "Epoch 36/50\n",
      "10353/10353 [==============================] - 19s 2ms/step - loss: 0.1197 - val_loss: 0.1185\n",
      "Epoch 37/50\n",
      "10353/10353 [==============================] - 19s 2ms/step - loss: 0.1195 - val_loss: 0.1152\n",
      "Epoch 38/50\n",
      "10353/10353 [==============================] - 19s 2ms/step - loss: 0.1196 - val_loss: 0.1176\n",
      "Epoch 39/50\n",
      "10353/10353 [==============================] - 19s 2ms/step - loss: 0.1189 - val_loss: 0.1185\n",
      "Epoch 40/50\n",
      "10353/10353 [==============================] - 19s 2ms/step - loss: 0.1181 - val_loss: 0.1160\n",
      "Epoch 41/50\n",
      "10353/10353 [==============================] - 19s 2ms/step - loss: 0.1184 - val_loss: 0.1159\n",
      "Epoch 42/50\n",
      "10353/10353 [==============================] - 19s 2ms/step - loss: 0.1177 - val_loss: 0.1243\n",
      "Epoch 43/50\n",
      "10353/10353 [==============================] - 19s 2ms/step - loss: 0.1174 - val_loss: 0.1276\n",
      "Epoch 44/50\n",
      "10353/10353 [==============================] - 19s 2ms/step - loss: 0.1177 - val_loss: 0.1582\n",
      "Epoch 45/50\n",
      "10353/10353 [==============================] - 18s 2ms/step - loss: 0.1170 - val_loss: 0.1221\n",
      "Epoch 46/50\n",
      "10353/10353 [==============================] - 18s 2ms/step - loss: 0.1171 - val_loss: 0.1247\n",
      "Epoch 47/50\n",
      "10353/10353 [==============================] - 19s 2ms/step - loss: 0.1171 - val_loss: 0.1257\n",
      "Epoch 48/50\n",
      "10353/10353 [==============================] - 18s 2ms/step - loss: 0.1169 - val_loss: 0.1121\n",
      "Epoch 49/50\n",
      "10353/10353 [==============================] - 19s 2ms/step - loss: 0.1160 - val_loss: 0.1167\n",
      "Epoch 50/50\n",
      "10353/10353 [==============================] - 18s 2ms/step - loss: 0.1157 - val_loss: 0.1193\n"
     ]
    }
   ],
   "source": [
    "fit_hist = model1.fit(clusters, training, batch_size=50, epochs=50, validation_split=0.1)"
   ]
  },
  {
   "cell_type": "markdown",
   "id": "ba643b53",
   "metadata": {},
   "source": [
    "okay wie gut war das jetzt...?"
   ]
  },
  {
   "cell_type": "code",
   "execution_count": 35,
   "id": "055d036e",
   "metadata": {},
   "outputs": [
    {
     "data": {
      "image/png": "[encoded data removed]",
      "text/plain": [
       "<Figure size 720x432 with 1 Axes>"
      ]
     },
     "metadata": {
      "needs_background": "light"
     },
     "output_type": "display_data"
    }
   ],
   "source": [
    "plt.plot(fit_hist.history['loss'])\n",
    "plt.plot(fit_hist.history['val_loss'])\n",
    "plt.xlabel('Epoch')\n",
    "plt.ylabel('Loss')\n",
    "plt.legend([\"Training Loss\", \"Validation Loss\"])\n",
    "plt.yscale('log')\n",
    "plt.show()"
   ]
  },
  {
   "cell_type": "code",
   "execution_count": 19,
   "id": "6efbfeea",
   "metadata": {},
   "outputs": [
    {
     "name": "stdout",
     "output_type": "stream",
     "text": [
      "This took  56.76056098937988 s\n"
     ]
    }
   ],
   "source": [
    "clusters5x5_v, coord_v, x_edge_v, y_edge_v = mf.form_cluster(xMC_veri, yMC_veri, EMC_veri)\n",
    "clusters_v = clusters5x5_v.reshape((clusters5x5_v.shape[0], 25))"
   ]
  },
  {
   "cell_type": "code",
   "execution_count": 33,
   "id": "68eb0d67",
   "metadata": {},
   "outputs": [],
   "source": [
    "output = model1.predict(clusters_v)"
   ]
  },
  {
   "cell_type": "code",
   "execution_count": 28,
   "id": "603f43aa",
   "metadata": {},
   "outputs": [
    {
     "name": "stdout",
     "output_type": "stream",
     "text": [
      "INFO:tensorflow:Assets written to: stage1model/assets\n"
     ]
    }
   ],
   "source": [
    "#keras.models.save_model(model1, 'stage1model')"
   ]
  },
  {
   "cell_type": "markdown",
   "id": "1160cdeb",
   "metadata": {},
   "source": [
    "<h2> Evaluation"
   ]
  },
  {
   "cell_type": "code",
   "execution_count": 21,
   "id": "3dfb81e4",
   "metadata": {},
   "outputs": [],
   "source": [
    "veri_truth_data = mf.prep_trainingsdata(x_truth_veri, y_truth_veri, E_truth_veri, coord_v)"
   ]
  },
  {
   "cell_type": "code",
   "execution_count": 22,
   "id": "9a929806",
   "metadata": {},
   "outputs": [],
   "source": [
    "veri_fit_data = mf.prep_trainingsdata(x_fit_veri, y_fit_veri, E_fit_veri, coord_v)"
   ]
  },
  {
   "cell_type": "code",
   "execution_count": 23,
   "id": "6e1e6cfa",
   "metadata": {},
   "outputs": [],
   "source": [
    "def histo_output(arr_NN, arr_fit, arr_truth, name=''):\n",
    "    plt.rcParams[\"figure.figsize\"] = (10,6)\n",
    "    plt.subplot(2,1,1)\n",
    "    plt.hist(arr_NN-arr_truth, bins=200)\n",
    "    plt.title(name + \" difference NN - truth\")\n",
    "    plt.yscale('log')\n",
    "    \n",
    "    plt.subplot(2,1,2)\n",
    "    plt.hist(arr_fit-arr_truth, bins=200)\n",
    "    plt.title(name + \" difference fit - truth\")\n",
    "    plt.yscale('log')\n",
    "    \n",
    "    plt.tight_layout()\n",
    "    plt.show()"
   ]
  },
  {
   "cell_type": "code",
   "execution_count": 24,
   "id": "93631f92",
   "metadata": {},
   "outputs": [
    {
     "data": {
      "image/png": "[encoded data removed]",
      "text/plain": [
       "<Figure size 720x432 with 2 Axes>"
      ]
     },
     "metadata": {
      "needs_background": "light"
     },
     "output_type": "display_data"
    }
   ],
   "source": [
    "histo_output(output.T[0], veri_fit_data.T[0], veri_truth_data.T[0], name=\"x\")"
   ]
  },
  {
   "cell_type": "code",
   "execution_count": 25,
   "id": "6445afa9",
   "metadata": {},
   "outputs": [
    {
     "data": {
      "image/png": "[encoded data removed]",
      "text/plain": [
       "<Figure size 720x432 with 2 Axes>"
      ]
     },
     "metadata": {
      "needs_background": "light"
     },
     "output_type": "display_data"
    }
   ],
   "source": [
    "histo_output(output.T[1], veri_fit_data.T[1], veri_truth_data.T[1], name=\"y\")"
   ]
  },
  {
   "cell_type": "code",
   "execution_count": 26,
   "id": "53d3aaae",
   "metadata": {},
   "outputs": [
    {
     "data": {
      "image/png": "[encoded data removed]",
      "text/plain": [
       "<Figure size 720x432 with 2 Axes>"
      ]
     },
     "metadata": {
      "needs_background": "light"
     },
     "output_type": "display_data"
    }
   ],
   "source": [
    "histo_output(output.T[2], veri_fit_data.T[2], veri_truth_data.T[2], name=\"E\")"
   ]
  },
  {
   "cell_type": "code",
   "execution_count": null,
   "id": "e4e25e9c",
   "metadata": {},
   "outputs": [],
   "source": []
  }
 ],
 "metadata": {
  "kernelspec": {
   "display_name": "Python 3",
   "language": "python",
   "name": "python3"
  },
  "language_info": {
   "codemirror_mode": {
    "name": "ipython",
    "version": 3
   },
   "file_extension": ".py",
   "mimetype": "text/x-python",
   "name": "python",
   "nbconvert_exporter": "python",
   "pygments_lexer": "ipython3",
   "version": "3.6.8"
  }
 },
 "nbformat": 4,
 "nbformat_minor": 5
}
